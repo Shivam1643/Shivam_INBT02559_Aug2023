{
 "cells": [
  {
   "cell_type": "markdown",
   "id": "321e795c",
   "metadata": {},
   "source": [
    "# Air Pollution"
   ]
  },
  {
   "cell_type": "markdown",
   "id": "2ace6bd7",
   "metadata": {},
   "source": [
    "# Data preprocessing"
   ]
  },
  {
   "cell_type": "code",
   "execution_count": 1,
   "id": "cf941b44",
   "metadata": {},
   "outputs": [],
   "source": [
    "#Import Libraries\n",
    "import pandas as pd\n",
    "import numpy as np\n",
    "import seaborn as sns\n",
    "import matplotlib.pyplot as plt\n",
    "import warnings\n",
    "warnings.filterwarnings(\"ignore\")\n",
    "from sklearn.metrics import mean_squared_error,mean_absolute_error,r2_score\n"
   ]
  },
  {
   "cell_type": "code",
   "execution_count": 2,
   "id": "93b9e68e",
   "metadata": {},
   "outputs": [],
   "source": [
    "air=pd.read_csv(\"Air_Pollution.csv\")"
   ]
  },
  {
   "cell_type": "code",
   "execution_count": 3,
   "id": "678530a9",
   "metadata": {},
   "outputs": [
    {
     "data": {
      "text/html": [
       "<div>\n",
       "<style scoped>\n",
       "    .dataframe tbody tr th:only-of-type {\n",
       "        vertical-align: middle;\n",
       "    }\n",
       "\n",
       "    .dataframe tbody tr th {\n",
       "        vertical-align: top;\n",
       "    }\n",
       "\n",
       "    .dataframe thead th {\n",
       "        text-align: right;\n",
       "    }\n",
       "</style>\n",
       "<table border=\"1\" class=\"dataframe\">\n",
       "  <thead>\n",
       "    <tr style=\"text-align: right;\">\n",
       "      <th></th>\n",
       "      <th>No</th>\n",
       "      <th>year</th>\n",
       "      <th>month</th>\n",
       "      <th>day</th>\n",
       "      <th>hour</th>\n",
       "      <th>pm2.5</th>\n",
       "      <th>DEWP</th>\n",
       "      <th>TEMP</th>\n",
       "      <th>PRES</th>\n",
       "      <th>cbwd</th>\n",
       "      <th>Iws</th>\n",
       "      <th>Is</th>\n",
       "      <th>Ir</th>\n",
       "    </tr>\n",
       "  </thead>\n",
       "  <tbody>\n",
       "    <tr>\n",
       "      <th>0</th>\n",
       "      <td>1</td>\n",
       "      <td>2010</td>\n",
       "      <td>1</td>\n",
       "      <td>1</td>\n",
       "      <td>0</td>\n",
       "      <td>NaN</td>\n",
       "      <td>-21</td>\n",
       "      <td>-11.0</td>\n",
       "      <td>1021.0</td>\n",
       "      <td>NW</td>\n",
       "      <td>1.79</td>\n",
       "      <td>0</td>\n",
       "      <td>0</td>\n",
       "    </tr>\n",
       "    <tr>\n",
       "      <th>1</th>\n",
       "      <td>2</td>\n",
       "      <td>2010</td>\n",
       "      <td>1</td>\n",
       "      <td>1</td>\n",
       "      <td>1</td>\n",
       "      <td>NaN</td>\n",
       "      <td>-21</td>\n",
       "      <td>-12.0</td>\n",
       "      <td>1020.0</td>\n",
       "      <td>NW</td>\n",
       "      <td>4.92</td>\n",
       "      <td>0</td>\n",
       "      <td>0</td>\n",
       "    </tr>\n",
       "    <tr>\n",
       "      <th>2</th>\n",
       "      <td>3</td>\n",
       "      <td>2010</td>\n",
       "      <td>1</td>\n",
       "      <td>1</td>\n",
       "      <td>2</td>\n",
       "      <td>NaN</td>\n",
       "      <td>-21</td>\n",
       "      <td>-11.0</td>\n",
       "      <td>1019.0</td>\n",
       "      <td>NW</td>\n",
       "      <td>6.71</td>\n",
       "      <td>0</td>\n",
       "      <td>0</td>\n",
       "    </tr>\n",
       "    <tr>\n",
       "      <th>3</th>\n",
       "      <td>4</td>\n",
       "      <td>2010</td>\n",
       "      <td>1</td>\n",
       "      <td>1</td>\n",
       "      <td>3</td>\n",
       "      <td>NaN</td>\n",
       "      <td>-21</td>\n",
       "      <td>-14.0</td>\n",
       "      <td>1019.0</td>\n",
       "      <td>NW</td>\n",
       "      <td>9.84</td>\n",
       "      <td>0</td>\n",
       "      <td>0</td>\n",
       "    </tr>\n",
       "    <tr>\n",
       "      <th>4</th>\n",
       "      <td>5</td>\n",
       "      <td>2010</td>\n",
       "      <td>1</td>\n",
       "      <td>1</td>\n",
       "      <td>4</td>\n",
       "      <td>NaN</td>\n",
       "      <td>-20</td>\n",
       "      <td>-12.0</td>\n",
       "      <td>1018.0</td>\n",
       "      <td>NW</td>\n",
       "      <td>12.97</td>\n",
       "      <td>0</td>\n",
       "      <td>0</td>\n",
       "    </tr>\n",
       "  </tbody>\n",
       "</table>\n",
       "</div>"
      ],
      "text/plain": [
       "   No  year  month  day  hour  pm2.5  DEWP  TEMP    PRES cbwd    Iws  Is  Ir\n",
       "0   1  2010      1    1     0    NaN   -21 -11.0  1021.0   NW   1.79   0   0\n",
       "1   2  2010      1    1     1    NaN   -21 -12.0  1020.0   NW   4.92   0   0\n",
       "2   3  2010      1    1     2    NaN   -21 -11.0  1019.0   NW   6.71   0   0\n",
       "3   4  2010      1    1     3    NaN   -21 -14.0  1019.0   NW   9.84   0   0\n",
       "4   5  2010      1    1     4    NaN   -20 -12.0  1018.0   NW  12.97   0   0"
      ]
     },
     "execution_count": 3,
     "metadata": {},
     "output_type": "execute_result"
    }
   ],
   "source": [
    "air.head()"
   ]
  },
  {
   "cell_type": "code",
   "execution_count": 4,
   "id": "c8d57b9f",
   "metadata": {},
   "outputs": [
    {
     "data": {
      "text/html": [
       "<div>\n",
       "<style scoped>\n",
       "    .dataframe tbody tr th:only-of-type {\n",
       "        vertical-align: middle;\n",
       "    }\n",
       "\n",
       "    .dataframe tbody tr th {\n",
       "        vertical-align: top;\n",
       "    }\n",
       "\n",
       "    .dataframe thead th {\n",
       "        text-align: right;\n",
       "    }\n",
       "</style>\n",
       "<table border=\"1\" class=\"dataframe\">\n",
       "  <thead>\n",
       "    <tr style=\"text-align: right;\">\n",
       "      <th></th>\n",
       "      <th>No</th>\n",
       "      <th>year</th>\n",
       "      <th>month</th>\n",
       "      <th>day</th>\n",
       "      <th>hour</th>\n",
       "      <th>pm2.5</th>\n",
       "      <th>DEWP</th>\n",
       "      <th>TEMP</th>\n",
       "      <th>PRES</th>\n",
       "      <th>cbwd</th>\n",
       "      <th>Iws</th>\n",
       "      <th>Is</th>\n",
       "      <th>Ir</th>\n",
       "    </tr>\n",
       "  </thead>\n",
       "  <tbody>\n",
       "    <tr>\n",
       "      <th>43819</th>\n",
       "      <td>43820</td>\n",
       "      <td>2014</td>\n",
       "      <td>12</td>\n",
       "      <td>31</td>\n",
       "      <td>19</td>\n",
       "      <td>8.0</td>\n",
       "      <td>-23</td>\n",
       "      <td>-2.0</td>\n",
       "      <td>1034.0</td>\n",
       "      <td>NW</td>\n",
       "      <td>231.97</td>\n",
       "      <td>0</td>\n",
       "      <td>0</td>\n",
       "    </tr>\n",
       "    <tr>\n",
       "      <th>43820</th>\n",
       "      <td>43821</td>\n",
       "      <td>2014</td>\n",
       "      <td>12</td>\n",
       "      <td>31</td>\n",
       "      <td>20</td>\n",
       "      <td>10.0</td>\n",
       "      <td>-22</td>\n",
       "      <td>-3.0</td>\n",
       "      <td>1034.0</td>\n",
       "      <td>NW</td>\n",
       "      <td>237.78</td>\n",
       "      <td>0</td>\n",
       "      <td>0</td>\n",
       "    </tr>\n",
       "    <tr>\n",
       "      <th>43821</th>\n",
       "      <td>43822</td>\n",
       "      <td>2014</td>\n",
       "      <td>12</td>\n",
       "      <td>31</td>\n",
       "      <td>21</td>\n",
       "      <td>10.0</td>\n",
       "      <td>-22</td>\n",
       "      <td>-3.0</td>\n",
       "      <td>1034.0</td>\n",
       "      <td>NW</td>\n",
       "      <td>242.70</td>\n",
       "      <td>0</td>\n",
       "      <td>0</td>\n",
       "    </tr>\n",
       "    <tr>\n",
       "      <th>43822</th>\n",
       "      <td>43823</td>\n",
       "      <td>2014</td>\n",
       "      <td>12</td>\n",
       "      <td>31</td>\n",
       "      <td>22</td>\n",
       "      <td>8.0</td>\n",
       "      <td>-22</td>\n",
       "      <td>-4.0</td>\n",
       "      <td>1034.0</td>\n",
       "      <td>NW</td>\n",
       "      <td>246.72</td>\n",
       "      <td>0</td>\n",
       "      <td>0</td>\n",
       "    </tr>\n",
       "    <tr>\n",
       "      <th>43823</th>\n",
       "      <td>43824</td>\n",
       "      <td>2014</td>\n",
       "      <td>12</td>\n",
       "      <td>31</td>\n",
       "      <td>23</td>\n",
       "      <td>12.0</td>\n",
       "      <td>-21</td>\n",
       "      <td>-3.0</td>\n",
       "      <td>1034.0</td>\n",
       "      <td>NW</td>\n",
       "      <td>249.85</td>\n",
       "      <td>0</td>\n",
       "      <td>0</td>\n",
       "    </tr>\n",
       "  </tbody>\n",
       "</table>\n",
       "</div>"
      ],
      "text/plain": [
       "          No  year  month  day  hour  pm2.5  DEWP  TEMP    PRES cbwd     Iws  \\\n",
       "43819  43820  2014     12   31    19    8.0   -23  -2.0  1034.0   NW  231.97   \n",
       "43820  43821  2014     12   31    20   10.0   -22  -3.0  1034.0   NW  237.78   \n",
       "43821  43822  2014     12   31    21   10.0   -22  -3.0  1034.0   NW  242.70   \n",
       "43822  43823  2014     12   31    22    8.0   -22  -4.0  1034.0   NW  246.72   \n",
       "43823  43824  2014     12   31    23   12.0   -21  -3.0  1034.0   NW  249.85   \n",
       "\n",
       "       Is  Ir  \n",
       "43819   0   0  \n",
       "43820   0   0  \n",
       "43821   0   0  \n",
       "43822   0   0  \n",
       "43823   0   0  "
      ]
     },
     "execution_count": 4,
     "metadata": {},
     "output_type": "execute_result"
    }
   ],
   "source": [
    "air.tail()"
   ]
  },
  {
   "cell_type": "code",
   "execution_count": 5,
   "id": "eb31f03d",
   "metadata": {},
   "outputs": [
    {
     "data": {
      "text/plain": [
       "No          0\n",
       "year        0\n",
       "month       0\n",
       "day         0\n",
       "hour        0\n",
       "pm2.5    2067\n",
       "DEWP        0\n",
       "TEMP        0\n",
       "PRES        0\n",
       "cbwd        0\n",
       "Iws         0\n",
       "Is          0\n",
       "Ir          0\n",
       "dtype: int64"
      ]
     },
     "execution_count": 5,
     "metadata": {},
     "output_type": "execute_result"
    }
   ],
   "source": [
    "#check null values\n",
    "air.isnull().sum()"
   ]
  },
  {
   "cell_type": "code",
   "execution_count": 6,
   "id": "4e321dd1",
   "metadata": {},
   "outputs": [],
   "source": [
    "#Deal with missing values\n",
    "air[\"pm2.5\"].fillna(air[\"pm2.5\"].mean(),inplace=True)"
   ]
  },
  {
   "cell_type": "code",
   "execution_count": 7,
   "id": "31fa2faa",
   "metadata": {},
   "outputs": [
    {
     "data": {
      "text/plain": [
       "No       0\n",
       "year     0\n",
       "month    0\n",
       "day      0\n",
       "hour     0\n",
       "pm2.5    0\n",
       "DEWP     0\n",
       "TEMP     0\n",
       "PRES     0\n",
       "cbwd     0\n",
       "Iws      0\n",
       "Is       0\n",
       "Ir       0\n",
       "dtype: int64"
      ]
     },
     "execution_count": 7,
     "metadata": {},
     "output_type": "execute_result"
    }
   ],
   "source": [
    "air.isnull().sum()"
   ]
  },
  {
   "cell_type": "code",
   "execution_count": 8,
   "id": "690ab6f4",
   "metadata": {},
   "outputs": [
    {
     "name": "stdout",
     "output_type": "stream",
     "text": [
      "<class 'pandas.core.frame.DataFrame'>\n",
      "RangeIndex: 43824 entries, 0 to 43823\n",
      "Data columns (total 13 columns):\n",
      " #   Column  Non-Null Count  Dtype  \n",
      "---  ------  --------------  -----  \n",
      " 0   No      43824 non-null  int64  \n",
      " 1   year    43824 non-null  int64  \n",
      " 2   month   43824 non-null  int64  \n",
      " 3   day     43824 non-null  int64  \n",
      " 4   hour    43824 non-null  int64  \n",
      " 5   pm2.5   43824 non-null  float64\n",
      " 6   DEWP    43824 non-null  int64  \n",
      " 7   TEMP    43824 non-null  float64\n",
      " 8   PRES    43824 non-null  float64\n",
      " 9   cbwd    43824 non-null  object \n",
      " 10  Iws     43824 non-null  float64\n",
      " 11  Is      43824 non-null  int64  \n",
      " 12  Ir      43824 non-null  int64  \n",
      "dtypes: float64(4), int64(8), object(1)\n",
      "memory usage: 4.3+ MB\n"
     ]
    }
   ],
   "source": [
    "#Check data information\n",
    "air.info()"
   ]
  },
  {
   "cell_type": "code",
   "execution_count": 9,
   "id": "8cd06ed1",
   "metadata": {},
   "outputs": [
    {
     "data": {
      "text/plain": [
       "0        False\n",
       "1        False\n",
       "2        False\n",
       "3        False\n",
       "4        False\n",
       "         ...  \n",
       "43819    False\n",
       "43820    False\n",
       "43821    False\n",
       "43822    False\n",
       "43823    False\n",
       "Length: 43824, dtype: bool"
      ]
     },
     "execution_count": 9,
     "metadata": {},
     "output_type": "execute_result"
    }
   ],
   "source": [
    "#Check duplicate values\n",
    "air.duplicated()"
   ]
  },
  {
   "cell_type": "code",
   "execution_count": 10,
   "id": "4633a2ba",
   "metadata": {},
   "outputs": [
    {
     "data": {
      "text/plain": [
       "Index(['No', 'year', 'month', 'day', 'hour', 'pm2.5', 'DEWP', 'TEMP', 'PRES',\n",
       "       'cbwd', 'Iws', 'Is', 'Ir'],\n",
       "      dtype='object')"
      ]
     },
     "execution_count": 10,
     "metadata": {},
     "output_type": "execute_result"
    }
   ],
   "source": [
    "#Label encoding\n",
    "air.keys()"
   ]
  },
  {
   "cell_type": "code",
   "execution_count": 11,
   "id": "a8dd750d",
   "metadata": {},
   "outputs": [
    {
     "data": {
      "text/plain": [
       "array(['NW', 'cv', 'NE', 'SE'], dtype=object)"
      ]
     },
     "execution_count": 11,
     "metadata": {},
     "output_type": "execute_result"
    }
   ],
   "source": [
    "air[\"cbwd\"].unique()"
   ]
  },
  {
   "cell_type": "code",
   "execution_count": 12,
   "id": "bb0cdffc",
   "metadata": {},
   "outputs": [],
   "source": [
    "\n",
    "from sklearn.preprocessing import LabelEncoder\n",
    "label_encoder=LabelEncoder()\n",
    "air[\"cbwd\"]=label_encoder.fit_transform(air[\"cbwd\"])"
   ]
  },
  {
   "cell_type": "code",
   "execution_count": 13,
   "id": "78ccdbc6",
   "metadata": {},
   "outputs": [
    {
     "data": {
      "text/plain": [
       "array([1, 3, 0, 2])"
      ]
     },
     "execution_count": 13,
     "metadata": {},
     "output_type": "execute_result"
    }
   ],
   "source": [
    "air[\"cbwd\"].unique()"
   ]
  },
  {
   "cell_type": "code",
   "execution_count": 14,
   "id": "a85ce761",
   "metadata": {},
   "outputs": [
    {
     "name": "stdout",
     "output_type": "stream",
     "text": [
      "<class 'pandas.core.frame.DataFrame'>\n",
      "RangeIndex: 43824 entries, 0 to 43823\n",
      "Data columns (total 13 columns):\n",
      " #   Column  Non-Null Count  Dtype  \n",
      "---  ------  --------------  -----  \n",
      " 0   No      43824 non-null  int64  \n",
      " 1   year    43824 non-null  int64  \n",
      " 2   month   43824 non-null  int64  \n",
      " 3   day     43824 non-null  int64  \n",
      " 4   hour    43824 non-null  int64  \n",
      " 5   pm2.5   43824 non-null  float64\n",
      " 6   DEWP    43824 non-null  int64  \n",
      " 7   TEMP    43824 non-null  float64\n",
      " 8   PRES    43824 non-null  float64\n",
      " 9   cbwd    43824 non-null  int32  \n",
      " 10  Iws     43824 non-null  float64\n",
      " 11  Is      43824 non-null  int64  \n",
      " 12  Ir      43824 non-null  int64  \n",
      "dtypes: float64(4), int32(1), int64(8)\n",
      "memory usage: 4.2 MB\n"
     ]
    }
   ],
   "source": [
    "air.info()"
   ]
  },
  {
   "cell_type": "code",
   "execution_count": 15,
   "id": "6fdb40b5",
   "metadata": {},
   "outputs": [],
   "source": [
    "#Feature Scaling\n",
    "from sklearn.preprocessing import MinMaxScaler\n",
    "scale=MinMaxScaler()\n",
    "air[\"pm2.5\"]=scale.fit_transform(air[[\"pm2.5\"]])\n",
    "air[\"Iws\"]=scale.fit_transform(air[[\"Iws\"]])"
   ]
  },
  {
   "cell_type": "code",
   "execution_count": 16,
   "id": "f8325abe",
   "metadata": {},
   "outputs": [
    {
     "data": {
      "text/html": [
       "<div>\n",
       "<style scoped>\n",
       "    .dataframe tbody tr th:only-of-type {\n",
       "        vertical-align: middle;\n",
       "    }\n",
       "\n",
       "    .dataframe tbody tr th {\n",
       "        vertical-align: top;\n",
       "    }\n",
       "\n",
       "    .dataframe thead th {\n",
       "        text-align: right;\n",
       "    }\n",
       "</style>\n",
       "<table border=\"1\" class=\"dataframe\">\n",
       "  <thead>\n",
       "    <tr style=\"text-align: right;\">\n",
       "      <th></th>\n",
       "      <th>No</th>\n",
       "      <th>year</th>\n",
       "      <th>month</th>\n",
       "      <th>day</th>\n",
       "      <th>hour</th>\n",
       "      <th>pm2.5</th>\n",
       "      <th>DEWP</th>\n",
       "      <th>TEMP</th>\n",
       "      <th>PRES</th>\n",
       "      <th>cbwd</th>\n",
       "      <th>Iws</th>\n",
       "      <th>Is</th>\n",
       "      <th>Ir</th>\n",
       "    </tr>\n",
       "  </thead>\n",
       "  <tbody>\n",
       "    <tr>\n",
       "      <th>0</th>\n",
       "      <td>1</td>\n",
       "      <td>2010</td>\n",
       "      <td>1</td>\n",
       "      <td>1</td>\n",
       "      <td>0</td>\n",
       "      <td>0.099208</td>\n",
       "      <td>-21</td>\n",
       "      <td>-11.0</td>\n",
       "      <td>1021.0</td>\n",
       "      <td>1</td>\n",
       "      <td>0.002290</td>\n",
       "      <td>0</td>\n",
       "      <td>0</td>\n",
       "    </tr>\n",
       "    <tr>\n",
       "      <th>1</th>\n",
       "      <td>2</td>\n",
       "      <td>2010</td>\n",
       "      <td>1</td>\n",
       "      <td>1</td>\n",
       "      <td>1</td>\n",
       "      <td>0.099208</td>\n",
       "      <td>-21</td>\n",
       "      <td>-12.0</td>\n",
       "      <td>1020.0</td>\n",
       "      <td>1</td>\n",
       "      <td>0.007639</td>\n",
       "      <td>0</td>\n",
       "      <td>0</td>\n",
       "    </tr>\n",
       "    <tr>\n",
       "      <th>2</th>\n",
       "      <td>3</td>\n",
       "      <td>2010</td>\n",
       "      <td>1</td>\n",
       "      <td>1</td>\n",
       "      <td>2</td>\n",
       "      <td>0.099208</td>\n",
       "      <td>-21</td>\n",
       "      <td>-11.0</td>\n",
       "      <td>1019.0</td>\n",
       "      <td>1</td>\n",
       "      <td>0.010698</td>\n",
       "      <td>0</td>\n",
       "      <td>0</td>\n",
       "    </tr>\n",
       "    <tr>\n",
       "      <th>3</th>\n",
       "      <td>4</td>\n",
       "      <td>2010</td>\n",
       "      <td>1</td>\n",
       "      <td>1</td>\n",
       "      <td>3</td>\n",
       "      <td>0.099208</td>\n",
       "      <td>-21</td>\n",
       "      <td>-14.0</td>\n",
       "      <td>1019.0</td>\n",
       "      <td>1</td>\n",
       "      <td>0.016047</td>\n",
       "      <td>0</td>\n",
       "      <td>0</td>\n",
       "    </tr>\n",
       "    <tr>\n",
       "      <th>4</th>\n",
       "      <td>5</td>\n",
       "      <td>2010</td>\n",
       "      <td>1</td>\n",
       "      <td>1</td>\n",
       "      <td>4</td>\n",
       "      <td>0.099208</td>\n",
       "      <td>-20</td>\n",
       "      <td>-12.0</td>\n",
       "      <td>1018.0</td>\n",
       "      <td>1</td>\n",
       "      <td>0.021396</td>\n",
       "      <td>0</td>\n",
       "      <td>0</td>\n",
       "    </tr>\n",
       "  </tbody>\n",
       "</table>\n",
       "</div>"
      ],
      "text/plain": [
       "   No  year  month  day  hour     pm2.5  DEWP  TEMP    PRES  cbwd       Iws  \\\n",
       "0   1  2010      1    1     0  0.099208   -21 -11.0  1021.0     1  0.002290   \n",
       "1   2  2010      1    1     1  0.099208   -21 -12.0  1020.0     1  0.007639   \n",
       "2   3  2010      1    1     2  0.099208   -21 -11.0  1019.0     1  0.010698   \n",
       "3   4  2010      1    1     3  0.099208   -21 -14.0  1019.0     1  0.016047   \n",
       "4   5  2010      1    1     4  0.099208   -20 -12.0  1018.0     1  0.021396   \n",
       "\n",
       "   Is  Ir  \n",
       "0   0   0  \n",
       "1   0   0  \n",
       "2   0   0  \n",
       "3   0   0  \n",
       "4   0   0  "
      ]
     },
     "execution_count": 16,
     "metadata": {},
     "output_type": "execute_result"
    }
   ],
   "source": [
    "air.head()"
   ]
  },
  {
   "cell_type": "markdown",
   "id": "409d7af1",
   "metadata": {},
   "source": [
    "# EDA"
   ]
  },
  {
   "cell_type": "code",
   "execution_count": 17,
   "id": "d97e8eb8",
   "metadata": {},
   "outputs": [
    {
     "data": {
      "text/html": [
       "<div>\n",
       "<style scoped>\n",
       "    .dataframe tbody tr th:only-of-type {\n",
       "        vertical-align: middle;\n",
       "    }\n",
       "\n",
       "    .dataframe tbody tr th {\n",
       "        vertical-align: top;\n",
       "    }\n",
       "\n",
       "    .dataframe thead th {\n",
       "        text-align: right;\n",
       "    }\n",
       "</style>\n",
       "<table border=\"1\" class=\"dataframe\">\n",
       "  <thead>\n",
       "    <tr style=\"text-align: right;\">\n",
       "      <th></th>\n",
       "      <th>No</th>\n",
       "      <th>year</th>\n",
       "      <th>month</th>\n",
       "      <th>day</th>\n",
       "      <th>hour</th>\n",
       "      <th>pm2.5</th>\n",
       "      <th>DEWP</th>\n",
       "      <th>TEMP</th>\n",
       "      <th>PRES</th>\n",
       "      <th>cbwd</th>\n",
       "      <th>Iws</th>\n",
       "      <th>Is</th>\n",
       "      <th>Ir</th>\n",
       "    </tr>\n",
       "  </thead>\n",
       "  <tbody>\n",
       "    <tr>\n",
       "      <th>count</th>\n",
       "      <td>43824.000000</td>\n",
       "      <td>43824.000000</td>\n",
       "      <td>43824.000000</td>\n",
       "      <td>43824.000000</td>\n",
       "      <td>43824.000000</td>\n",
       "      <td>43824.000000</td>\n",
       "      <td>43824.000000</td>\n",
       "      <td>43824.000000</td>\n",
       "      <td>43824.000000</td>\n",
       "      <td>43824.000000</td>\n",
       "      <td>43824.000000</td>\n",
       "      <td>43824.000000</td>\n",
       "      <td>43824.000000</td>\n",
       "    </tr>\n",
       "    <tr>\n",
       "      <th>mean</th>\n",
       "      <td>21912.500000</td>\n",
       "      <td>2012.000000</td>\n",
       "      <td>6.523549</td>\n",
       "      <td>15.727820</td>\n",
       "      <td>11.500000</td>\n",
       "      <td>0.099208</td>\n",
       "      <td>1.817246</td>\n",
       "      <td>12.448521</td>\n",
       "      <td>1016.447654</td>\n",
       "      <td>1.663267</td>\n",
       "      <td>0.040057</td>\n",
       "      <td>0.052734</td>\n",
       "      <td>0.194916</td>\n",
       "    </tr>\n",
       "    <tr>\n",
       "      <th>std</th>\n",
       "      <td>12651.043435</td>\n",
       "      <td>1.413842</td>\n",
       "      <td>3.448572</td>\n",
       "      <td>8.799425</td>\n",
       "      <td>6.922266</td>\n",
       "      <td>0.090396</td>\n",
       "      <td>14.433440</td>\n",
       "      <td>12.198613</td>\n",
       "      <td>10.268698</td>\n",
       "      <td>0.937981</td>\n",
       "      <td>0.085466</td>\n",
       "      <td>0.760375</td>\n",
       "      <td>1.415867</td>\n",
       "    </tr>\n",
       "    <tr>\n",
       "      <th>min</th>\n",
       "      <td>1.000000</td>\n",
       "      <td>2010.000000</td>\n",
       "      <td>1.000000</td>\n",
       "      <td>1.000000</td>\n",
       "      <td>0.000000</td>\n",
       "      <td>0.000000</td>\n",
       "      <td>-40.000000</td>\n",
       "      <td>-19.000000</td>\n",
       "      <td>991.000000</td>\n",
       "      <td>0.000000</td>\n",
       "      <td>0.000000</td>\n",
       "      <td>0.000000</td>\n",
       "      <td>0.000000</td>\n",
       "    </tr>\n",
       "    <tr>\n",
       "      <th>25%</th>\n",
       "      <td>10956.750000</td>\n",
       "      <td>2011.000000</td>\n",
       "      <td>4.000000</td>\n",
       "      <td>8.000000</td>\n",
       "      <td>5.750000</td>\n",
       "      <td>0.031187</td>\n",
       "      <td>-10.000000</td>\n",
       "      <td>2.000000</td>\n",
       "      <td>1008.000000</td>\n",
       "      <td>1.000000</td>\n",
       "      <td>0.002290</td>\n",
       "      <td>0.000000</td>\n",
       "      <td>0.000000</td>\n",
       "    </tr>\n",
       "    <tr>\n",
       "      <th>50%</th>\n",
       "      <td>21912.500000</td>\n",
       "      <td>2012.000000</td>\n",
       "      <td>7.000000</td>\n",
       "      <td>16.000000</td>\n",
       "      <td>11.500000</td>\n",
       "      <td>0.077465</td>\n",
       "      <td>2.000000</td>\n",
       "      <td>14.000000</td>\n",
       "      <td>1016.000000</td>\n",
       "      <td>2.000000</td>\n",
       "      <td>0.008408</td>\n",
       "      <td>0.000000</td>\n",
       "      <td>0.000000</td>\n",
       "    </tr>\n",
       "    <tr>\n",
       "      <th>75%</th>\n",
       "      <td>32868.250000</td>\n",
       "      <td>2013.000000</td>\n",
       "      <td>10.000000</td>\n",
       "      <td>23.000000</td>\n",
       "      <td>17.250000</td>\n",
       "      <td>0.132797</td>\n",
       "      <td>15.000000</td>\n",
       "      <td>23.000000</td>\n",
       "      <td>1025.000000</td>\n",
       "      <td>2.000000</td>\n",
       "      <td>0.036674</td>\n",
       "      <td>0.000000</td>\n",
       "      <td>0.000000</td>\n",
       "    </tr>\n",
       "    <tr>\n",
       "      <th>max</th>\n",
       "      <td>43824.000000</td>\n",
       "      <td>2014.000000</td>\n",
       "      <td>12.000000</td>\n",
       "      <td>31.000000</td>\n",
       "      <td>23.000000</td>\n",
       "      <td>1.000000</td>\n",
       "      <td>28.000000</td>\n",
       "      <td>42.000000</td>\n",
       "      <td>1046.000000</td>\n",
       "      <td>3.000000</td>\n",
       "      <td>1.000000</td>\n",
       "      <td>27.000000</td>\n",
       "      <td>36.000000</td>\n",
       "    </tr>\n",
       "  </tbody>\n",
       "</table>\n",
       "</div>"
      ],
      "text/plain": [
       "                 No          year         month           day          hour  \\\n",
       "count  43824.000000  43824.000000  43824.000000  43824.000000  43824.000000   \n",
       "mean   21912.500000   2012.000000      6.523549     15.727820     11.500000   \n",
       "std    12651.043435      1.413842      3.448572      8.799425      6.922266   \n",
       "min        1.000000   2010.000000      1.000000      1.000000      0.000000   \n",
       "25%    10956.750000   2011.000000      4.000000      8.000000      5.750000   \n",
       "50%    21912.500000   2012.000000      7.000000     16.000000     11.500000   \n",
       "75%    32868.250000   2013.000000     10.000000     23.000000     17.250000   \n",
       "max    43824.000000   2014.000000     12.000000     31.000000     23.000000   \n",
       "\n",
       "              pm2.5          DEWP          TEMP          PRES          cbwd  \\\n",
       "count  43824.000000  43824.000000  43824.000000  43824.000000  43824.000000   \n",
       "mean       0.099208      1.817246     12.448521   1016.447654      1.663267   \n",
       "std        0.090396     14.433440     12.198613     10.268698      0.937981   \n",
       "min        0.000000    -40.000000    -19.000000    991.000000      0.000000   \n",
       "25%        0.031187    -10.000000      2.000000   1008.000000      1.000000   \n",
       "50%        0.077465      2.000000     14.000000   1016.000000      2.000000   \n",
       "75%        0.132797     15.000000     23.000000   1025.000000      2.000000   \n",
       "max        1.000000     28.000000     42.000000   1046.000000      3.000000   \n",
       "\n",
       "                Iws            Is            Ir  \n",
       "count  43824.000000  43824.000000  43824.000000  \n",
       "mean       0.040057      0.052734      0.194916  \n",
       "std        0.085466      0.760375      1.415867  \n",
       "min        0.000000      0.000000      0.000000  \n",
       "25%        0.002290      0.000000      0.000000  \n",
       "50%        0.008408      0.000000      0.000000  \n",
       "75%        0.036674      0.000000      0.000000  \n",
       "max        1.000000     27.000000     36.000000  "
      ]
     },
     "execution_count": 17,
     "metadata": {},
     "output_type": "execute_result"
    }
   ],
   "source": [
    "air.describe()"
   ]
  },
  {
   "cell_type": "code",
   "execution_count": 18,
   "id": "63f4c61a",
   "metadata": {},
   "outputs": [],
   "source": [
    "#Which year has the highest pollution \n"
   ]
  },
  {
   "cell_type": "code",
   "execution_count": 19,
   "id": "1642a4fd",
   "metadata": {},
   "outputs": [
    {
     "data": {
      "text/plain": [
       "<Axes: xlabel='year', ylabel='count'>"
      ]
     },
     "execution_count": 19,
     "metadata": {},
     "output_type": "execute_result"
    },
    {
     "data": {
      "image/png": "[encoded data removed]",
      "text/plain": [
       "<Figure size 640x480 with 1 Axes>"
      ]
     },
     "metadata": {},
     "output_type": "display_data"
    }
   ],
   "source": [
    "sns.countplot(x=air['year'],data=air)"
   ]
  },
  {
   "cell_type": "code",
   "execution_count": 20,
   "id": "24790942",
   "metadata": {},
   "outputs": [
    {
     "data": {
      "text/plain": [
       "<Axes: ylabel='Frequency'>"
      ]
     },
     "execution_count": 20,
     "metadata": {},
     "output_type": "execute_result"
    },
    {
     "data": {
      "image/png": "[encoded data removed]",
      "text/plain": [
       "<Figure size 1300x700 with 1 Axes>"
      ]
     },
     "metadata": {},
     "output_type": "display_data"
    }
   ],
   "source": [
    "#Concentration of pm2.5\n",
    "air[\"pm2.5\"].plot.hist(bins=200,figsize=(13,7))\n"
   ]
  },
  {
   "cell_type": "code",
   "execution_count": 21,
   "id": "5b628791",
   "metadata": {},
   "outputs": [
    {
     "data": {
      "text/plain": [
       "<Axes: xlabel='cbwd', ylabel='Count'>"
      ]
     },
     "execution_count": 21,
     "metadata": {},
     "output_type": "execute_result"
    },
    {
     "data": {
      "image/png": "[encoded data removed]",
      "text/plain": [
       "<Figure size 640x480 with 1 Axes>"
      ]
     },
     "metadata": {},
     "output_type": "display_data"
    }
   ],
   "source": [
    "sns.histplot(data=air[\"cbwd\"])"
   ]
  },
  {
   "cell_type": "code",
   "execution_count": 22,
   "id": "b374d54a",
   "metadata": {},
   "outputs": [
    {
     "data": {
      "text/plain": [
       "<Axes: xlabel='year', ylabel='pm2.5'>"
      ]
     },
     "execution_count": 22,
     "metadata": {},
     "output_type": "execute_result"
    },
    {
     "data": {
      "image/png": "[encoded data removed]",
      "text/plain": [
       "<Figure size 640x480 with 1 Axes>"
      ]
     },
     "metadata": {},
     "output_type": "display_data"
    }
   ],
   "source": [
    "#Which year has the highest PM2.5\n",
    "sns.histplot(x=air[\"year\"],y=air[\"pm2.5\"])"
   ]
  },
  {
   "cell_type": "code",
   "execution_count": 23,
   "id": "b0559837",
   "metadata": {},
   "outputs": [
    {
     "data": {
      "text/plain": [
       "<Axes: xlabel='Iws', ylabel='pm2.5'>"
      ]
     },
     "execution_count": 23,
     "metadata": {},
     "output_type": "execute_result"
    },
    {
     "data": {
      "image/png": "[encoded data removed]",
      "text/plain": [
       "<Figure size 640x480 with 1 Axes>"
      ]
     },
     "metadata": {},
     "output_type": "display_data"
    }
   ],
   "source": [
    "sns.histplot(x=air[\"Iws\"],y=air[\"pm2.5\"])"
   ]
  },
  {
   "cell_type": "code",
   "execution_count": 24,
   "id": "2ce2fdd4",
   "metadata": {},
   "outputs": [
    {
     "data": {
      "text/plain": [
       "<Axes: xlabel='TEMP', ylabel='DEWP'>"
      ]
     },
     "execution_count": 24,
     "metadata": {},
     "output_type": "execute_result"
    },
    {
     "data": {
      "image/png": "[encoded data removed]",
      "text/plain": [
       "<Figure size 640x480 with 1 Axes>"
      ]
     },
     "metadata": {},
     "output_type": "display_data"
    }
   ],
   "source": [
    "sns.lineplot(x=air[\"TEMP\"],y=air[\"DEWP\"]"
   ]
  },
  {
   "cell_type": "code",
   "execution_count": 37,
   "id": "b58e7556",
   "metadata": {},
   "outputs": [
    {
     "data": {
      "text/plain": [
       "<Axes: >"
      ]
     },
     "execution_count": 37,
     "metadata": {},
     "output_type": "execute_result"
    },
    {
     "data": {
      "image/png": "[encoded data removed]",
      "text/plain": [
       "<Figure size 640x480 with 2 Axes>"
      ]
     },
     "metadata": {},
     "output_type": "display_data"
    }
   ],
   "source": [
    "sns.heatmap(air.corr())"
   ]
  },
  {
   "cell_type": "markdown",
   "id": "056070bb",
   "metadata": {},
   "source": [
    "# Model Implementation"
   ]
  },
  {
   "cell_type": "code",
   "execution_count": 26,
   "id": "ffe44d12",
   "metadata": {},
   "outputs": [],
   "source": [
    "#Split the data\n",
    "from sklearn.model_selection import train_test_split\n",
    "air=air.iloc[:,[0,1,2,3,4,5,6,7,8,9,10,11,12,]]\n",
    "x=air.iloc[:,:-1]\n",
    "y=air.iloc[:,1]\n",
    "x_train,x_test,y_train,y_test=train_test_split(x,y,test_size=0.4,random_state=1)"
   ]
  },
  {
   "cell_type": "markdown",
   "id": "05a9b51f",
   "metadata": {},
   "source": [
    "# Ridge Regression"
   ]
  },
  {
   "cell_type": "code",
   "execution_count": 27,
   "id": "6ac248d0",
   "metadata": {},
   "outputs": [],
   "source": [
    "from sklearn.linear_model import Ridge\n",
    "RR =Ridge(alpha=0.1)\n",
    "RR.fit(x_train,y_train)\n",
    "y_pred_train_rr=RR.predict(x_train)\n",
    "y_pred_test_rr=RR.predict(x_test)"
   ]
  },
  {
   "cell_type": "markdown",
   "id": "3795d06d",
   "metadata": {},
   "source": [
    "# Random Forest Regressor"
   ]
  },
  {
   "cell_type": "code",
   "execution_count": 28,
   "id": "3cc507f7",
   "metadata": {},
   "outputs": [],
   "source": [
    "from sklearn.ensemble import RandomForestRegressor\n",
    "rfr=RandomForestRegressor(n_estimators=100,max_depth=7,min_samples_split=7,min_samples_leaf=3)\n",
    "rfr.fit(x_train,y_train)\n",
    "y_pred_train_rfr=rfr.predict(x_train)\n",
    "y_pred_test_rfr=rfr.predict(x_test)"
   ]
  },
  {
   "cell_type": "markdown",
   "id": "281a4c27",
   "metadata": {},
   "source": [
    "# Overfitting"
   ]
  },
  {
   "cell_type": "markdown",
   "id": "f0448a4a",
   "metadata": {},
   "source": [
    "# for Random Forest Regressor"
   ]
  },
  {
   "cell_type": "code",
   "execution_count": 29,
   "id": "42c72883",
   "metadata": {},
   "outputs": [
    {
     "name": "stdout",
     "output_type": "stream",
     "text": [
      "Model is overfit\n",
      "Test_score: 0.999997501397185\n",
      "Train_score: 0.999998266019043\n"
     ]
    }
   ],
   "source": [
    "test_score=rfr.score(x_test,y_test)\n",
    "train_score=rfr.score(x_train,y_train)\n",
    "if train_score >test_score:\n",
    "    print(\"Model is overfit\")\n",
    "    print(\"Test_score:\",test_score)\n",
    "    print(\"Train_score:\",train_score)\n",
    "else: \n",
    "    print(\"model is not overfit\")"
   ]
  },
  {
   "cell_type": "markdown",
   "id": "d01c66cd",
   "metadata": {},
   "source": [
    "# for Ridge regression"
   ]
  },
  {
   "cell_type": "code",
   "execution_count": 30,
   "id": "a7a3f5fd",
   "metadata": {},
   "outputs": [
    {
     "name": "stdout",
     "output_type": "stream",
     "text": [
      "Ridge Regression Model is Overfit\n",
      "Training Scores:  0.9999995489825342\n",
      "Testing Score: 0.999999541135648\n"
     ]
    }
   ],
   "source": [
    "#Check Overfitting\n",
    "Train_score=RR.score(x_train,y_train)\n",
    "Test_score=RR.score(x_test,y_test)\n",
    "if Train_score > Test_score:\n",
    "    print(\"Ridge Regression Model is Overfit\")\n",
    "    print(\"Training Scores: \",Train_score)\n",
    "    print(\"Testing Score:\",Test_score)\n",
    "else:\n",
    "    print(\"Ridge Regression is not overfit:\")\n",
    "    print(\"Training Scores: \",Train_score)\n",
    "    print(\"Testing Score:\",Test_score)\n",
    "    "
   ]
  },
  {
   "cell_type": "markdown",
   "id": "45edf5a9",
   "metadata": {},
   "source": [
    "# Model Evaluation"
   ]
  },
  {
   "cell_type": "markdown",
   "id": "d62afb5f",
   "metadata": {},
   "source": [
    "# For Ridge Regression"
   ]
  },
  {
   "cell_type": "code",
   "execution_count": 31,
   "id": "cc083f94",
   "metadata": {},
   "outputs": [
    {
     "name": "stdout",
     "output_type": "stream",
     "text": [
      "Model Evaluation for Ridge Regression\n",
      "-----------------------Model Evaluation for training data --------------------------\n",
      "The Mean Squared Error for ridge regression is:        9.011783613574844e-07\n",
      "The Mean Absolute Error for ridge regression is:       0.0007587440865351087\n",
      "The Root Mean Squared Error for Ridge Regression is:   0.0009493041458655305\n",
      "\n",
      "---------------------Model Evaluation for testing data ---------------------------\n",
      "The Mean Squared Error for ridge regression is:        9.177180737181539e-07\n",
      "The Mean Absolute Error for ridge regression is:       0.0007635047247493424\n",
      "The Root Mean Squared Error for Ridge Regression is:   0.0009579760298244178\n"
     ]
    }
   ],
   "source": [
    "print(\"Model Evaluation for Ridge Regression\")\n",
    "print(\"-----------------------Model Evaluation for training data --------------------------\")\n",
    "print(\"The Mean Squared Error for ridge regression is:       \",mean_squared_error(y_train,y_pred_train_rr))\n",
    "print(\"The Mean Absolute Error for ridge regression is:      \",mean_absolute_error(y_train,y_pred_train_rr))\n",
    "print(\"The Root Mean Squared Error for Ridge Regression is:  \",np.sqrt(mean_squared_error(y_train,y_pred_train_rr)))\n",
    "print(\"\\n---------------------Model Evaluation for testing data ---------------------------\")\n",
    "print(\"The Mean Squared Error for ridge regression is:       \",mean_squared_error(y_test,y_pred_test_rr))\n",
    "print(\"The Mean Absolute Error for ridge regression is:      \",mean_absolute_error(y_test,y_pred_test_rr))\n",
    "print(\"The Root Mean Squared Error for Ridge Regression is:  \",np.sqrt(mean_squared_error(y_test,y_pred_test_rr)))\n"
   ]
  },
  {
   "cell_type": "markdown",
   "id": "a2e69a40",
   "metadata": {},
   "source": [
    "# For Random Forest Regressor  "
   ]
  },
  {
   "cell_type": "code",
   "execution_count": 32,
   "id": "09f6bef2",
   "metadata": {},
   "outputs": [
    {
     "name": "stdout",
     "output_type": "stream",
     "text": [
      "Model Evaluation for Random Forest Regressor\n",
      "-----------------------Model Evaluation for training data --------------------------\n",
      "The Mean Squared Error for Random Forest Regressor is:        3.4646687457227644e-06\n",
      "The Mean Absolute Error for Random Forest Regressor is:       3.384802616566033e-05\n",
      "The Root Mean Squared Error for Random Forest Regressor is:   0.001861362067337455\n",
      "\n",
      "---------------------Model Evaluation for testing data ---------------------------\n",
      "The Mean Squared Error for Random Forest Regressor is:        4.9971477467198986e-06\n",
      "The Mean Absolute Error for Random Forest Regressor is:       4.449515116940932e-05\n",
      "The Root Mean Squared Error for Random Forest Regressor is:   0.0022354301032955375\n"
     ]
    }
   ],
   "source": [
    "print(\"Model Evaluation for Random Forest Regressor\")\n",
    "print(\"-----------------------Model Evaluation for training data --------------------------\")\n",
    "print(\"The Mean Squared Error for Random Forest Regressor is:       \",mean_squared_error(y_train,y_pred_train_rfr))\n",
    "print(\"The Mean Absolute Error for Random Forest Regressor is:      \",mean_absolute_error(y_train,y_pred_train_rfr))\n",
    "print(\"The Root Mean Squared Error for Random Forest Regressor is:  \",np.sqrt(mean_squared_error(y_train,y_pred_train_rfr)))\n",
    "print(\"\\n---------------------Model Evaluation for testing data ---------------------------\")\n",
    "print(\"The Mean Squared Error for Random Forest Regressor is:       \",mean_squared_error(y_test,y_pred_test_rfr))\n",
    "print(\"The Mean Absolute Error for Random Forest Regressor is:      \",mean_absolute_error(y_test,y_pred_test_rfr))\n",
    "print(\"The Root Mean Squared Error for Random Forest Regressor is:  \",np.sqrt(mean_squared_error(y_test,y_pred_test_rfr)))\n"
   ]
  },
  {
   "cell_type": "markdown",
   "id": "19c6d49e",
   "metadata": {},
   "source": [
    "# Cross Validation "
   ]
  },
  {
   "cell_type": "markdown",
   "id": "161dd6b0",
   "metadata": {},
   "source": [
    "# For Ridge Regression"
   ]
  },
  {
   "cell_type": "code",
   "execution_count": 33,
   "id": "d77bdf77",
   "metadata": {},
   "outputs": [],
   "source": [
    "#Import Libraries\n",
    "from sklearn.model_selection import cross_val_score,KFold\n",
    "CVS=cross_val_score\n",
    "k_folds=KFold(n_splits=10,shuffle=True,random_state=1) \n"
   ]
  },
  {
   "cell_type": "code",
   "execution_count": 34,
   "id": "a605126d",
   "metadata": {},
   "outputs": [
    {
     "name": "stdout",
     "output_type": "stream",
     "text": [
      "\n",
      "Training MeanSquaredError Scores for Each Fold:\n",
      "Fold 1: 6.115846685855552e-05\n",
      "Fold 2: 6.113030421012254e-05\n",
      "Fold 3: 6.117623043236183e-05\n",
      "Fold 4: 6.120886819040809e-05\n",
      "Fold 5: 6.123237302774746e-05\n",
      "Fold 6: 6.118402341799695e-05\n",
      "Fold 7: 6.120162908439247e-05\n",
      "Fold 8: 6.118839038703971e-05\n",
      "Fold 9: 6.111816844569327e-05\n",
      "Fold 10: 6.118746209498216e-05\n",
      "\n",
      "Testing MeanSquaredError Scores for Each Fold:\n",
      "Fold 1: 6.166095163678466e-05\n",
      "Fold 2: 6.220578626704756e-05\n",
      "Fold 3: 6.10489109255755e-05\n",
      "Fold 4: 6.0852955826371596e-05\n",
      "Fold 5: 6.051910341887625e-05\n",
      "Fold 6: 5.992196177223174e-05\n",
      "Fold 7: 6.028579477203672e-05\n",
      "Fold 8: 6.18059739001766e-05\n",
      "Fold 9: 6.238799333387209e-05\n",
      "Fold 10: 6.125453217517195e-05\n",
      "\n",
      "Average MeanSquaredError Training Score: 6.117859161493e-05\n",
      "\n",
      "Average MeanSquaredError Testing Score: 6.119439640281446e-05\n"
     ]
    }
   ],
   "source": [
    "#Cross Validation\n",
    "score_rr=CVS(RR,x_test,y_test,cv=10)\n",
    "score_rr\n",
    "from sklearn import metrics\n",
    "k_folds=KFold(n_splits=10,shuffle=True,random_state=40)\n",
    "\n",
    "Train_score=[]\n",
    "Test_score=[]\n",
    "for train_index,test_index in k_folds.split(x):\n",
    "    x_train, x_test = x.iloc[train_index], x.iloc[test_index]\n",
    "    y_train, y_test = x.iloc[train_index], x.iloc[test_index]\n",
    "    RR.fit(x_train, y_train)\n",
    "    y_pred_test = RR.predict(x_test)\n",
    "    y_pred_train = RR.predict(x_train)\n",
    "    MAE_test = mean_absolute_error(y_pred_test,y_test)\n",
    "    MAE_train =mean_absolute_error(y_pred_train,y_train)\n",
    "    Test_score.append(MAE_test)\n",
    "    Train_score.append(MAE_train)\n",
    "print(\"\\nTraining MeanSquaredError Scores for Each Fold:\")\n",
    "for fold, score in enumerate(Train_score):\n",
    "    print(f\"Fold {fold+1}: {score}\")\n",
    "\n",
    "print(\"\\nTesting MeanSquaredError Scores for Each Fold:\")\n",
    "for fold, score in enumerate(Test_score):\n",
    "    print(f\"Fold {fold+1}: {score}\")\n",
    "average_mae_train = sum(Train_score) / len(Train_score)\n",
    "print(\"\\nAverage MeanSquaredError Training Score:\", average_mae_train)\n",
    "\n",
    "average_mae_test = sum(Test_score) / len(Test_score)\n",
    "print(\"\\nAverage MeanSquaredError Testing Score:\", average_mae_test)\n"
   ]
  },
  {
   "cell_type": "markdown",
   "id": "992088e3",
   "metadata": {},
   "source": [
    "# For Random Forest Regressor"
   ]
  },
  {
   "cell_type": "code",
   "execution_count": 36,
   "id": "5afee6ac",
   "metadata": {},
   "outputs": [
    {
     "name": "stdout",
     "output_type": "stream",
     "text": [
      "\n",
      "Training MeanSquaredError Scores for Each Fold:\n",
      "Fold 1: 5.282011972426227\n",
      "Fold 2: 5.252681376434851\n",
      "Fold 3: 4.936321936512479\n",
      "Fold 4: 5.211034335368491\n",
      "Fold 5: 4.983333254032931\n",
      "Fold 6: 5.385446036977714\n",
      "Fold 7: 4.966436958926377\n",
      "Fold 8: 5.069123340251719\n",
      "Fold 9: 4.942860675873041\n",
      "Fold 10: 5.095620830798725\n",
      "\n",
      "Testing MeanSquaredError Scores for Each Fold:\n",
      "Fold 1: 5.33917036354262\n",
      "Fold 2: 5.257882852432922\n",
      "Fold 3: 4.969049228960374\n",
      "Fold 4: 5.259507725473071\n",
      "Fold 5: 4.960729623603936\n",
      "Fold 6: 5.4951066021187\n",
      "Fold 7: 4.985391233107692\n",
      "Fold 8: 5.100814383801661\n",
      "Fold 9: 4.9493602572560365\n",
      "Fold 10: 5.038735931105517\n",
      "\n",
      "Average MeanSquaredError Training Score: 6.117859161493e-05\n",
      "\n",
      "Average MeanSquaredError Testing Score: 6.119439640281446e-05\n"
     ]
    }
   ],
   "source": [
    "#Cross Validation\n",
    "score_rfr=CVS(rfr,x_test,y_test,cv=10)\n",
    "score_rfr\n",
    "from sklearn import metrics\n",
    "k_folds=KFold(n_splits=10,shuffle=True,random_state=40)\n",
    "\n",
    "Train_score=[]\n",
    "Test_score=[]\n",
    "for train_index,test_index in k_folds.split(x):\n",
    "    x_train, x_test = x.iloc[train_index], x.iloc[test_index]\n",
    "    y_train, y_test = x.iloc[train_index], x.iloc[test_index]\n",
    "    rfr.fit(x_train, y_train)\n",
    "    y_pred_test = rfr.predict(x_test)\n",
    "    y_pred_train = rfr.predict(x_train)\n",
    "    MAE_test = mean_absolute_error(y_pred_test,y_test)\n",
    "    MAE_train =mean_absolute_error(y_pred_train,y_train)\n",
    "    Test_score.append(MAE_test)\n",
    "    Train_score.append(MAE_train)\n",
    "print(\"\\nTraining MeanSquaredError Scores for Each Fold:\")\n",
    "for fold, score in enumerate(Train_score):\n",
    "    print(f\"Fold {fold+1}: {score}\")\n",
    "\n",
    "print(\"\\nTesting MeanSquaredError Scores for Each Fold:\")\n",
    "for fold, score in enumerate(Test_score):\n",
    "    print(f\"Fold {fold+1}: {score}\")\n",
    "mae_accuracy_train = sum(Train_score) / len(Train_score)\n",
    "print(\"\\nAverage MeanSquaredError Training Score:\", average_mae_train)\n",
    "\n",
    "mae_accuracy_test = sum(Test_score) / len(Test_score)\n",
    "print(\"\\nAverage MeanSquaredError Testing Score:\", average_mae_test)\n"
   ]
  },
  {
   "cell_type": "code",
   "execution_count": null,
   "id": "94a0e0dc",
   "metadata": {},
   "outputs": [],
   "source": []
  }
 ],
 "metadata": {
  "kernelspec": {
   "display_name": "Python 3 (ipykernel)",
   "language": "python",
   "name": "python3"
  },
  "language_info": {
   "codemirror_mode": {
    "name": "ipython",
    "version": 3
   },
   "file_extension": ".py",
   "mimetype": "text/x-python",
   "name": "python",
   "nbconvert_exporter": "python",
   "pygments_lexer": "ipython3",
   "version": "3.11.4"
  }
 },
 "nbformat": 4,
 "nbformat_minor": 5
}
