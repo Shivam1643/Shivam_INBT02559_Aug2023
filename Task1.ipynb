{
 "cells": [
  {
   "cell_type": "markdown",
   "id": "6869972a",
   "metadata": {},
   "source": [
    "# Heart Disease Prediction"
   ]
  },
  {
   "cell_type": "markdown",
   "id": "711a4854",
   "metadata": {},
   "source": [
    "# Data Preprocessing"
   ]
  },
  {
   "cell_type": "code",
   "execution_count": 1,
   "id": "ecba489f",
   "metadata": {},
   "outputs": [],
   "source": [
    "# Step 1:Import Libraries\n",
    "import pandas as pd\n",
    "import numpy as np\n",
    "import seaborn as sns\n",
    "import matplotlib.pyplot as plt\n",
    "import warnings\n",
    "warnings.filterwarnings(\"ignore\")"
   ]
  },
  {
   "cell_type": "code",
   "execution_count": 2,
   "id": "f10d733a",
   "metadata": {},
   "outputs": [],
   "source": [
    "#Step 2:import Csv file\n",
    "data=pd.read_csv(\"heart.csv\")"
   ]
  },
  {
   "cell_type": "code",
   "execution_count": 3,
   "id": "4545f40c",
   "metadata": {},
   "outputs": [
    {
     "data": {
      "text/html": [
       "<div>\n",
       "<style scoped>\n",
       "    .dataframe tbody tr th:only-of-type {\n",
       "        vertical-align: middle;\n",
       "    }\n",
       "\n",
       "    .dataframe tbody tr th {\n",
       "        vertical-align: top;\n",
       "    }\n",
       "\n",
       "    .dataframe thead th {\n",
       "        text-align: right;\n",
       "    }\n",
       "</style>\n",
       "<table border=\"1\" class=\"dataframe\">\n",
       "  <thead>\n",
       "    <tr style=\"text-align: right;\">\n",
       "      <th></th>\n",
       "      <th>age</th>\n",
       "      <th>sex</th>\n",
       "      <th>cp</th>\n",
       "      <th>trestbps</th>\n",
       "      <th>chol</th>\n",
       "      <th>fbs</th>\n",
       "      <th>restecg</th>\n",
       "      <th>thalach</th>\n",
       "      <th>exang</th>\n",
       "      <th>oldpeak</th>\n",
       "      <th>slope</th>\n",
       "      <th>ca</th>\n",
       "      <th>thal</th>\n",
       "      <th>target</th>\n",
       "    </tr>\n",
       "  </thead>\n",
       "  <tbody>\n",
       "    <tr>\n",
       "      <th>0</th>\n",
       "      <td>52</td>\n",
       "      <td>1</td>\n",
       "      <td>0</td>\n",
       "      <td>125</td>\n",
       "      <td>212</td>\n",
       "      <td>0</td>\n",
       "      <td>1</td>\n",
       "      <td>168</td>\n",
       "      <td>0</td>\n",
       "      <td>1.0</td>\n",
       "      <td>2</td>\n",
       "      <td>2</td>\n",
       "      <td>3</td>\n",
       "      <td>0</td>\n",
       "    </tr>\n",
       "    <tr>\n",
       "      <th>1</th>\n",
       "      <td>53</td>\n",
       "      <td>1</td>\n",
       "      <td>0</td>\n",
       "      <td>140</td>\n",
       "      <td>203</td>\n",
       "      <td>1</td>\n",
       "      <td>0</td>\n",
       "      <td>155</td>\n",
       "      <td>1</td>\n",
       "      <td>3.1</td>\n",
       "      <td>0</td>\n",
       "      <td>0</td>\n",
       "      <td>3</td>\n",
       "      <td>0</td>\n",
       "    </tr>\n",
       "    <tr>\n",
       "      <th>2</th>\n",
       "      <td>70</td>\n",
       "      <td>1</td>\n",
       "      <td>0</td>\n",
       "      <td>145</td>\n",
       "      <td>174</td>\n",
       "      <td>0</td>\n",
       "      <td>1</td>\n",
       "      <td>125</td>\n",
       "      <td>1</td>\n",
       "      <td>2.6</td>\n",
       "      <td>0</td>\n",
       "      <td>0</td>\n",
       "      <td>3</td>\n",
       "      <td>0</td>\n",
       "    </tr>\n",
       "    <tr>\n",
       "      <th>3</th>\n",
       "      <td>61</td>\n",
       "      <td>1</td>\n",
       "      <td>0</td>\n",
       "      <td>148</td>\n",
       "      <td>203</td>\n",
       "      <td>0</td>\n",
       "      <td>1</td>\n",
       "      <td>161</td>\n",
       "      <td>0</td>\n",
       "      <td>0.0</td>\n",
       "      <td>2</td>\n",
       "      <td>1</td>\n",
       "      <td>3</td>\n",
       "      <td>0</td>\n",
       "    </tr>\n",
       "    <tr>\n",
       "      <th>4</th>\n",
       "      <td>62</td>\n",
       "      <td>0</td>\n",
       "      <td>0</td>\n",
       "      <td>138</td>\n",
       "      <td>294</td>\n",
       "      <td>1</td>\n",
       "      <td>1</td>\n",
       "      <td>106</td>\n",
       "      <td>0</td>\n",
       "      <td>1.9</td>\n",
       "      <td>1</td>\n",
       "      <td>3</td>\n",
       "      <td>2</td>\n",
       "      <td>0</td>\n",
       "    </tr>\n",
       "  </tbody>\n",
       "</table>\n",
       "</div>"
      ],
      "text/plain": [
       "   age  sex  cp  trestbps  chol  fbs  restecg  thalach  exang  oldpeak  slope  \\\n",
       "0   52    1   0       125   212    0        1      168      0      1.0      2   \n",
       "1   53    1   0       140   203    1        0      155      1      3.1      0   \n",
       "2   70    1   0       145   174    0        1      125      1      2.6      0   \n",
       "3   61    1   0       148   203    0        1      161      0      0.0      2   \n",
       "4   62    0   0       138   294    1        1      106      0      1.9      1   \n",
       "\n",
       "   ca  thal  target  \n",
       "0   2     3       0  \n",
       "1   0     3       0  \n",
       "2   0     3       0  \n",
       "3   1     3       0  \n",
       "4   3     2       0  "
      ]
     },
     "execution_count": 3,
     "metadata": {},
     "output_type": "execute_result"
    }
   ],
   "source": [
    "data.head()"
   ]
  },
  {
   "cell_type": "code",
   "execution_count": 4,
   "id": "ce6d22bd",
   "metadata": {},
   "outputs": [
    {
     "data": {
      "text/plain": [
       "target\n",
       "1    526\n",
       "0    499\n",
       "Name: count, dtype: int64"
      ]
     },
     "execution_count": 4,
     "metadata": {},
     "output_type": "execute_result"
    }
   ],
   "source": [
    "data['target'].value_counts()"
   ]
  },
  {
   "cell_type": "code",
   "execution_count": 5,
   "id": "3abc06bc",
   "metadata": {},
   "outputs": [],
   "source": [
    "#step-3:Check Data information"
   ]
  },
  {
   "cell_type": "code",
   "execution_count": 6,
   "id": "b1d223a3",
   "metadata": {},
   "outputs": [
    {
     "name": "stdout",
     "output_type": "stream",
     "text": [
      "<class 'pandas.core.frame.DataFrame'>\n",
      "RangeIndex: 1025 entries, 0 to 1024\n",
      "Data columns (total 14 columns):\n",
      " #   Column    Non-Null Count  Dtype  \n",
      "---  ------    --------------  -----  \n",
      " 0   age       1025 non-null   int64  \n",
      " 1   sex       1025 non-null   int64  \n",
      " 2   cp        1025 non-null   int64  \n",
      " 3   trestbps  1025 non-null   int64  \n",
      " 4   chol      1025 non-null   int64  \n",
      " 5   fbs       1025 non-null   int64  \n",
      " 6   restecg   1025 non-null   int64  \n",
      " 7   thalach   1025 non-null   int64  \n",
      " 8   exang     1025 non-null   int64  \n",
      " 9   oldpeak   1025 non-null   float64\n",
      " 10  slope     1025 non-null   int64  \n",
      " 11  ca        1025 non-null   int64  \n",
      " 12  thal      1025 non-null   int64  \n",
      " 13  target    1025 non-null   int64  \n",
      "dtypes: float64(1), int64(13)\n",
      "memory usage: 112.2 KB\n"
     ]
    }
   ],
   "source": [
    "data.info()"
   ]
  },
  {
   "cell_type": "code",
   "execution_count": 7,
   "id": "97e1adf8",
   "metadata": {},
   "outputs": [],
   "source": [
    "#step-4:Check Null Values"
   ]
  },
  {
   "cell_type": "code",
   "execution_count": 8,
   "id": "5ee0cf8c",
   "metadata": {},
   "outputs": [
    {
     "data": {
      "text/plain": [
       "age         0\n",
       "sex         0\n",
       "cp          0\n",
       "trestbps    0\n",
       "chol        0\n",
       "fbs         0\n",
       "restecg     0\n",
       "thalach     0\n",
       "exang       0\n",
       "oldpeak     0\n",
       "slope       0\n",
       "ca          0\n",
       "thal        0\n",
       "target      0\n",
       "dtype: int64"
      ]
     },
     "execution_count": 8,
     "metadata": {},
     "output_type": "execute_result"
    }
   ],
   "source": [
    "data.isnull().sum()"
   ]
  },
  {
   "cell_type": "code",
   "execution_count": 9,
   "id": "7583a73f",
   "metadata": {},
   "outputs": [],
   "source": [
    "#Step-5:Check duplicate values"
   ]
  },
  {
   "cell_type": "code",
   "execution_count": 10,
   "id": "41ee2d5f",
   "metadata": {},
   "outputs": [
    {
     "data": {
      "text/plain": [
       "0       False\n",
       "1       False\n",
       "2       False\n",
       "3       False\n",
       "4       False\n",
       "        ...  \n",
       "1020     True\n",
       "1021     True\n",
       "1022     True\n",
       "1023     True\n",
       "1024     True\n",
       "Length: 1025, dtype: bool"
      ]
     },
     "execution_count": 10,
     "metadata": {},
     "output_type": "execute_result"
    }
   ],
   "source": [
    "data.duplicated()"
   ]
  },
  {
   "cell_type": "code",
   "execution_count": 11,
   "id": "f0f49aa5",
   "metadata": {},
   "outputs": [],
   "source": [
    "#Step-6:Delete Duplicate values"
   ]
  },
  {
   "cell_type": "code",
   "execution_count": 12,
   "id": "59251e8a",
   "metadata": {},
   "outputs": [],
   "source": [
    "data=data.drop_duplicates()"
   ]
  },
  {
   "cell_type": "code",
   "execution_count": 13,
   "id": "ccc43e31",
   "metadata": {},
   "outputs": [
    {
     "data": {
      "text/html": [
       "<div>\n",
       "<style scoped>\n",
       "    .dataframe tbody tr th:only-of-type {\n",
       "        vertical-align: middle;\n",
       "    }\n",
       "\n",
       "    .dataframe tbody tr th {\n",
       "        vertical-align: top;\n",
       "    }\n",
       "\n",
       "    .dataframe thead th {\n",
       "        text-align: right;\n",
       "    }\n",
       "</style>\n",
       "<table border=\"1\" class=\"dataframe\">\n",
       "  <thead>\n",
       "    <tr style=\"text-align: right;\">\n",
       "      <th></th>\n",
       "      <th>age</th>\n",
       "      <th>sex</th>\n",
       "      <th>cp</th>\n",
       "      <th>trestbps</th>\n",
       "      <th>chol</th>\n",
       "      <th>fbs</th>\n",
       "      <th>restecg</th>\n",
       "      <th>thalach</th>\n",
       "      <th>exang</th>\n",
       "      <th>oldpeak</th>\n",
       "      <th>slope</th>\n",
       "      <th>ca</th>\n",
       "      <th>thal</th>\n",
       "      <th>target</th>\n",
       "    </tr>\n",
       "  </thead>\n",
       "  <tbody>\n",
       "    <tr>\n",
       "      <th>0</th>\n",
       "      <td>52</td>\n",
       "      <td>1</td>\n",
       "      <td>0</td>\n",
       "      <td>125</td>\n",
       "      <td>212</td>\n",
       "      <td>0</td>\n",
       "      <td>1</td>\n",
       "      <td>168</td>\n",
       "      <td>0</td>\n",
       "      <td>1.0</td>\n",
       "      <td>2</td>\n",
       "      <td>2</td>\n",
       "      <td>3</td>\n",
       "      <td>0</td>\n",
       "    </tr>\n",
       "    <tr>\n",
       "      <th>1</th>\n",
       "      <td>53</td>\n",
       "      <td>1</td>\n",
       "      <td>0</td>\n",
       "      <td>140</td>\n",
       "      <td>203</td>\n",
       "      <td>1</td>\n",
       "      <td>0</td>\n",
       "      <td>155</td>\n",
       "      <td>1</td>\n",
       "      <td>3.1</td>\n",
       "      <td>0</td>\n",
       "      <td>0</td>\n",
       "      <td>3</td>\n",
       "      <td>0</td>\n",
       "    </tr>\n",
       "    <tr>\n",
       "      <th>2</th>\n",
       "      <td>70</td>\n",
       "      <td>1</td>\n",
       "      <td>0</td>\n",
       "      <td>145</td>\n",
       "      <td>174</td>\n",
       "      <td>0</td>\n",
       "      <td>1</td>\n",
       "      <td>125</td>\n",
       "      <td>1</td>\n",
       "      <td>2.6</td>\n",
       "      <td>0</td>\n",
       "      <td>0</td>\n",
       "      <td>3</td>\n",
       "      <td>0</td>\n",
       "    </tr>\n",
       "    <tr>\n",
       "      <th>3</th>\n",
       "      <td>61</td>\n",
       "      <td>1</td>\n",
       "      <td>0</td>\n",
       "      <td>148</td>\n",
       "      <td>203</td>\n",
       "      <td>0</td>\n",
       "      <td>1</td>\n",
       "      <td>161</td>\n",
       "      <td>0</td>\n",
       "      <td>0.0</td>\n",
       "      <td>2</td>\n",
       "      <td>1</td>\n",
       "      <td>3</td>\n",
       "      <td>0</td>\n",
       "    </tr>\n",
       "    <tr>\n",
       "      <th>4</th>\n",
       "      <td>62</td>\n",
       "      <td>0</td>\n",
       "      <td>0</td>\n",
       "      <td>138</td>\n",
       "      <td>294</td>\n",
       "      <td>1</td>\n",
       "      <td>1</td>\n",
       "      <td>106</td>\n",
       "      <td>0</td>\n",
       "      <td>1.9</td>\n",
       "      <td>1</td>\n",
       "      <td>3</td>\n",
       "      <td>2</td>\n",
       "      <td>0</td>\n",
       "    </tr>\n",
       "  </tbody>\n",
       "</table>\n",
       "</div>"
      ],
      "text/plain": [
       "   age  sex  cp  trestbps  chol  fbs  restecg  thalach  exang  oldpeak  slope  \\\n",
       "0   52    1   0       125   212    0        1      168      0      1.0      2   \n",
       "1   53    1   0       140   203    1        0      155      1      3.1      0   \n",
       "2   70    1   0       145   174    0        1      125      1      2.6      0   \n",
       "3   61    1   0       148   203    0        1      161      0      0.0      2   \n",
       "4   62    0   0       138   294    1        1      106      0      1.9      1   \n",
       "\n",
       "   ca  thal  target  \n",
       "0   2     3       0  \n",
       "1   0     3       0  \n",
       "2   0     3       0  \n",
       "3   1     3       0  \n",
       "4   3     2       0  "
      ]
     },
     "execution_count": 13,
     "metadata": {},
     "output_type": "execute_result"
    }
   ],
   "source": [
    "data.head()"
   ]
  },
  {
   "cell_type": "code",
   "execution_count": 14,
   "id": "4d96ee12",
   "metadata": {},
   "outputs": [
    {
     "data": {
      "text/plain": [
       "target\n",
       "1    164\n",
       "0    138\n",
       "Name: count, dtype: int64"
      ]
     },
     "execution_count": 14,
     "metadata": {},
     "output_type": "execute_result"
    }
   ],
   "source": [
    "data['target'].value_counts()"
   ]
  },
  {
   "cell_type": "code",
   "execution_count": 15,
   "id": "a35a65bb",
   "metadata": {},
   "outputs": [],
   "source": [
    "#Step 7:Scale Numerical variables"
   ]
  },
  {
   "cell_type": "code",
   "execution_count": 16,
   "id": "82c7eaf3",
   "metadata": {},
   "outputs": [],
   "source": [
    "X=data.drop('target',axis=1)\n",
    "Y=data['target']\n"
   ]
  },
  {
   "cell_type": "code",
   "execution_count": 17,
   "id": "9ae108be",
   "metadata": {},
   "outputs": [],
   "source": [
    "from sklearn.preprocessing import StandardScaler\n",
    "scaler=StandardScaler()\n",
    "xs=scaler.fit_transform(X)"
   ]
  },
  {
   "cell_type": "code",
   "execution_count": 18,
   "id": "b41964db",
   "metadata": {},
   "outputs": [],
   "source": [
    "#Split the data\n"
   ]
  },
  {
   "cell_type": "code",
   "execution_count": 19,
   "id": "160d98c7",
   "metadata": {},
   "outputs": [],
   "source": [
    "from sklearn.model_selection import train_test_split\n",
    "X_train,X_test,y_train,y_test=train_test_split(xs,Y,test_size=0.4,random_state=1)"
   ]
  },
  {
   "cell_type": "code",
   "execution_count": 20,
   "id": "d1e5dae7",
   "metadata": {},
   "outputs": [
    {
     "data": {
      "text/html": [
       "<div>\n",
       "<style scoped>\n",
       "    .dataframe tbody tr th:only-of-type {\n",
       "        vertical-align: middle;\n",
       "    }\n",
       "\n",
       "    .dataframe tbody tr th {\n",
       "        vertical-align: top;\n",
       "    }\n",
       "\n",
       "    .dataframe thead th {\n",
       "        text-align: right;\n",
       "    }\n",
       "</style>\n",
       "<table border=\"1\" class=\"dataframe\">\n",
       "  <thead>\n",
       "    <tr style=\"text-align: right;\">\n",
       "      <th></th>\n",
       "      <th>age</th>\n",
       "      <th>sex</th>\n",
       "      <th>cp</th>\n",
       "      <th>trestbps</th>\n",
       "      <th>chol</th>\n",
       "      <th>fbs</th>\n",
       "      <th>restecg</th>\n",
       "      <th>thalach</th>\n",
       "      <th>exang</th>\n",
       "      <th>oldpeak</th>\n",
       "      <th>slope</th>\n",
       "      <th>ca</th>\n",
       "      <th>thal</th>\n",
       "      <th>target</th>\n",
       "    </tr>\n",
       "  </thead>\n",
       "  <tbody>\n",
       "    <tr>\n",
       "      <th>0</th>\n",
       "      <td>52</td>\n",
       "      <td>1</td>\n",
       "      <td>0</td>\n",
       "      <td>125</td>\n",
       "      <td>212</td>\n",
       "      <td>0</td>\n",
       "      <td>1</td>\n",
       "      <td>168</td>\n",
       "      <td>0</td>\n",
       "      <td>1.0</td>\n",
       "      <td>2</td>\n",
       "      <td>2</td>\n",
       "      <td>3</td>\n",
       "      <td>0</td>\n",
       "    </tr>\n",
       "    <tr>\n",
       "      <th>1</th>\n",
       "      <td>53</td>\n",
       "      <td>1</td>\n",
       "      <td>0</td>\n",
       "      <td>140</td>\n",
       "      <td>203</td>\n",
       "      <td>1</td>\n",
       "      <td>0</td>\n",
       "      <td>155</td>\n",
       "      <td>1</td>\n",
       "      <td>3.1</td>\n",
       "      <td>0</td>\n",
       "      <td>0</td>\n",
       "      <td>3</td>\n",
       "      <td>0</td>\n",
       "    </tr>\n",
       "    <tr>\n",
       "      <th>2</th>\n",
       "      <td>70</td>\n",
       "      <td>1</td>\n",
       "      <td>0</td>\n",
       "      <td>145</td>\n",
       "      <td>174</td>\n",
       "      <td>0</td>\n",
       "      <td>1</td>\n",
       "      <td>125</td>\n",
       "      <td>1</td>\n",
       "      <td>2.6</td>\n",
       "      <td>0</td>\n",
       "      <td>0</td>\n",
       "      <td>3</td>\n",
       "      <td>0</td>\n",
       "    </tr>\n",
       "    <tr>\n",
       "      <th>3</th>\n",
       "      <td>61</td>\n",
       "      <td>1</td>\n",
       "      <td>0</td>\n",
       "      <td>148</td>\n",
       "      <td>203</td>\n",
       "      <td>0</td>\n",
       "      <td>1</td>\n",
       "      <td>161</td>\n",
       "      <td>0</td>\n",
       "      <td>0.0</td>\n",
       "      <td>2</td>\n",
       "      <td>1</td>\n",
       "      <td>3</td>\n",
       "      <td>0</td>\n",
       "    </tr>\n",
       "    <tr>\n",
       "      <th>4</th>\n",
       "      <td>62</td>\n",
       "      <td>0</td>\n",
       "      <td>0</td>\n",
       "      <td>138</td>\n",
       "      <td>294</td>\n",
       "      <td>1</td>\n",
       "      <td>1</td>\n",
       "      <td>106</td>\n",
       "      <td>0</td>\n",
       "      <td>1.9</td>\n",
       "      <td>1</td>\n",
       "      <td>3</td>\n",
       "      <td>2</td>\n",
       "      <td>0</td>\n",
       "    </tr>\n",
       "  </tbody>\n",
       "</table>\n",
       "</div>"
      ],
      "text/plain": [
       "   age  sex  cp  trestbps  chol  fbs  restecg  thalach  exang  oldpeak  slope  \\\n",
       "0   52    1   0       125   212    0        1      168      0      1.0      2   \n",
       "1   53    1   0       140   203    1        0      155      1      3.1      0   \n",
       "2   70    1   0       145   174    0        1      125      1      2.6      0   \n",
       "3   61    1   0       148   203    0        1      161      0      0.0      2   \n",
       "4   62    0   0       138   294    1        1      106      0      1.9      1   \n",
       "\n",
       "   ca  thal  target  \n",
       "0   2     3       0  \n",
       "1   0     3       0  \n",
       "2   0     3       0  \n",
       "3   1     3       0  \n",
       "4   3     2       0  "
      ]
     },
     "execution_count": 20,
     "metadata": {},
     "output_type": "execute_result"
    }
   ],
   "source": [
    "data.head()"
   ]
  },
  {
   "cell_type": "markdown",
   "id": "4bf44329",
   "metadata": {},
   "source": [
    "# EDA"
   ]
  },
  {
   "cell_type": "code",
   "execution_count": 21,
   "id": "530aea28",
   "metadata": {},
   "outputs": [
    {
     "data": {
      "text/plain": [
       "<Axes: >"
      ]
     },
     "execution_count": 21,
     "metadata": {},
     "output_type": "execute_result"
    },
    {
     "data": {
      "image/png": "[encoded data removed]",
      "text/plain": [
       "<Figure size 640x480 with 2 Axes>"
      ]
     },
     "metadata": {},
     "output_type": "display_data"
    }
   ],
   "source": [
    "sns.heatmap(data.corr())"
   ]
  },
  {
   "cell_type": "code",
   "execution_count": 22,
   "id": "2dd6c009",
   "metadata": {},
   "outputs": [
    {
     "data": {
      "text/plain": [
       "target\n",
       "1    164\n",
       "0    138\n",
       "Name: count, dtype: int64"
      ]
     },
     "execution_count": 22,
     "metadata": {},
     "output_type": "execute_result"
    }
   ],
   "source": [
    "data['target'].value_counts()"
   ]
  },
  {
   "cell_type": "code",
   "execution_count": 23,
   "id": "3a658d30",
   "metadata": {},
   "outputs": [
    {
     "data": {
      "text/plain": [
       "Text(0, 0.5, 'Counts')"
      ]
     },
     "execution_count": 23,
     "metadata": {},
     "output_type": "execute_result"
    },
    {
     "data": {
      "image/png": "[encoded data removed]",
      "text/plain": [
       "<Figure size 640x480 with 1 Axes>"
      ]
     },
     "metadata": {},
     "output_type": "display_data"
    }
   ],
   "source": [
    "#How namy people have heart disease\n",
    "data['target'].value_counts().plot.bar() \n",
    "plt.xlabel('Target')\n",
    "plt.ylabel('Counts')"
   ]
  },
  {
   "cell_type": "code",
   "execution_count": 24,
   "id": "fd2a5930",
   "metadata": {},
   "outputs": [
    {
     "data": {
      "image/png": "[encoded data removed]",
      "text/plain": [
       "<Figure size 640x480 with 1 Axes>"
      ]
     },
     "metadata": {},
     "output_type": "display_data"
    }
   ],
   "source": [
    "#Which Sex has the most Heart disease\n",
    "data['sex'].value_counts().plot.bar()\n",
    "plt.xlabel('SEX')\n",
    "plt.ylabel('Counts')\n",
    "plt.xticks([0,1],['Male','Female'])\n",
    "plt.show()"
   ]
  },
  {
   "cell_type": "code",
   "execution_count": 25,
   "id": "8123796c",
   "metadata": {},
   "outputs": [
    {
     "data": {
      "image/png": "[encoded data removed]",
      "text/plain": [
       "<Figure size 640x480 with 1 Axes>"
      ]
     },
     "metadata": {},
     "output_type": "display_data"
    }
   ],
   "source": [
    "#Gender distribution according to target variable\n",
    "sns.countplot(x='sex',hue='target',data=data)\n",
    "plt.xticks([0,1],['Female','Male'])\n",
    "plt.show()\n"
   ]
  },
  {
   "cell_type": "code",
   "execution_count": null,
   "id": "663a3fef",
   "metadata": {},
   "outputs": [],
   "source": []
  },
  {
   "cell_type": "code",
   "execution_count": 26,
   "id": "9e331014",
   "metadata": {},
   "outputs": [
    {
     "data": {
      "text/plain": [
       "Text(0, 0.5, 'Count')"
      ]
     },
     "execution_count": 26,
     "metadata": {},
     "output_type": "execute_result"
    },
    {
     "data": {
      "image/png": "[encoded data removed]",
      "text/plain": [
       "<Figure size 640x480 with 1 Axes>"
      ]
     },
     "metadata": {},
     "output_type": "display_data"
    }
   ],
   "source": [
    "#Check type of chest pain\n",
    "data[\"cp\"].value_counts().plot.bar()\n",
    "plt.xlabel('Chest pain')\n",
    "plt.ylabel('Count')\n",
    "\n"
   ]
  },
  {
   "cell_type": "code",
   "execution_count": 27,
   "id": "996e21f3",
   "metadata": {},
   "outputs": [
    {
     "data": {
      "image/png": "[encoded data removed]",
      "text/plain": [
       "<Figure size 640x480 with 1 Axes>"
      ]
     },
     "metadata": {},
     "output_type": "display_data"
    }
   ],
   "source": [
    "#count of chest pain with respect to target\n",
    "sns.countplot(x='cp',hue=\"target\",data=data)\n",
    "plt.legend(labels=['No Disease','Disease'])\n",
    "plt.show()"
   ]
  },
  {
   "cell_type": "code",
   "execution_count": 28,
   "id": "66beab27",
   "metadata": {},
   "outputs": [
    {
     "data": {
      "image/png": "[encoded data removed]",
      "text/plain": [
       "<Figure size 640x480 with 1 Axes>"
      ]
     },
     "metadata": {},
     "output_type": "display_data"
    }
   ],
   "source": [
    "#Fasting blood sugar with target\n",
    "sns.countplot(x='fbs',hue=\"target\",data=data)\n",
    "plt.xlabel(\"Fasting blood sugar\")\n",
    "plt.legend(labels=['No Disease','Disease'])\n",
    "plt.show()"
   ]
  },
  {
   "cell_type": "code",
   "execution_count": null,
   "id": "b6bdf50b",
   "metadata": {},
   "outputs": [],
   "source": []
  },
  {
   "cell_type": "code",
   "execution_count": 29,
   "id": "6be6760d",
   "metadata": {},
   "outputs": [
    {
     "data": {
      "image/png": "[encoded data removed]",
      "text/plain": [
       "<Figure size 1200x300 with 1 Axes>"
      ]
     },
     "metadata": {},
     "output_type": "display_data"
    }
   ],
   "source": [
    "#Compare Resting Blood pressure as per gender \n",
    "Graph=sns.FacetGrid(data,hue='sex',aspect=4)\n",
    "Graph.map(sns.kdeplot,'trestbps')\n",
    "plt.legend(labels=['Male','Female'])\n",
    "\n",
    "plt.show()"
   ]
  },
  {
   "cell_type": "markdown",
   "id": "1bad7a7d",
   "metadata": {},
   "source": [
    "# Model Implementation"
   ]
  },
  {
   "cell_type": "markdown",
   "id": "50156ab3",
   "metadata": {},
   "source": [
    "# KNN"
   ]
  },
  {
   "cell_type": "code",
   "execution_count": 30,
   "id": "58df326f",
   "metadata": {},
   "outputs": [],
   "source": [
    "from sklearn.neighbors import KNeighborsClassifier\n",
    "knn= KNeighborsClassifier()\n",
    "knn.fit(X_train,y_train)\n",
    "y_pred_train_knn=knn.predict(X_train)\n",
    "y_pred_test_knn=knn.predict(X_test)"
   ]
  },
  {
   "cell_type": "markdown",
   "id": "b6804480",
   "metadata": {},
   "source": [
    "# Decision Tree"
   ]
  },
  {
   "cell_type": "code",
   "execution_count": 31,
   "id": "dd6c647c",
   "metadata": {},
   "outputs": [],
   "source": [
    "from sklearn.tree import DecisionTreeClassifier\n",
    "decision_tree= DecisionTreeClassifier()\n",
    "decision_tree.fit(X_train,y_train)\n",
    "y_pred_train_dt=decision_tree.predict(X_train)\n",
    "y_pred_test_dt=decision_tree.predict(X_test)"
   ]
  },
  {
   "cell_type": "markdown",
   "id": "1a1dac1c",
   "metadata": {},
   "source": [
    "# Naive Bayes"
   ]
  },
  {
   "cell_type": "code",
   "execution_count": 32,
   "id": "9c037515",
   "metadata": {},
   "outputs": [],
   "source": [
    "from sklearn.naive_bayes import GaussianNB\n",
    "naive=GaussianNB()\n",
    "naive.fit(X_train,y_train)\n",
    "y_pred_train_nb=naive.predict(X_train)\n",
    "y_pred_test_nb=naive.predict(X_test)\n",
    "\n"
   ]
  },
  {
   "cell_type": "markdown",
   "id": "21b2d29a",
   "metadata": {},
   "source": [
    "# Model Evaluation"
   ]
  },
  {
   "cell_type": "code",
   "execution_count": 33,
   "id": "e0e04772",
   "metadata": {},
   "outputs": [],
   "source": [
    "#Import libraries\n",
    "from sklearn.metrics import recall_score,accuracy_score,precision_score,f1_score,roc_auc_score"
   ]
  },
  {
   "cell_type": "markdown",
   "id": "7c781621",
   "metadata": {},
   "source": [
    "# For KNN"
   ]
  },
  {
   "cell_type": "code",
   "execution_count": 34,
   "id": "ec4fe92b",
   "metadata": {},
   "outputs": [
    {
     "name": "stdout",
     "output_type": "stream",
     "text": [
      "Model evaluation for K Nearest Neighbors\n",
      "\n",
      "------------------Model Evaluation for Training Data----------------------- \n",
      "The accuracy score for knn is: 0.861878453038674\n",
      "The precision score for knn is: 0.8446601941747572\n",
      "The f1 score for knn is: 0.8743718592964823\n",
      "The Recall Score for knn is : 0.90625\n",
      "The ROC AUC score for knn is: 0.8590073529411765\n",
      "----------------Model Evaluation for Testing Data--------------------------\n",
      "The accuracy score for knn is: 0.8181818181818182\n",
      "The precision score for knn is: 0.8108108108108109\n",
      "The f1 score for knn is: 0.8450704225352113\n",
      "The Recall Score for knn is : 0.8823529411764706\n",
      "The ROC AUC score for knn is: 0.8091009988901221\n"
     ]
    }
   ],
   "source": [
    "print(\"Model evaluation for K Nearest Neighbors\\n\")\n",
    "print(\"------------------Model Evaluation for Training Data----------------------- \")\n",
    "\n",
    "print(\"The accuracy score for knn is:\", accuracy_score(y_train,y_pred_train_knn))\n",
    "print(\"The precision score for knn is:\",precision_score(y_train,y_pred_train_knn))\n",
    "print(\"The f1 score for knn is:\",f1_score(y_train,y_pred_train_knn))\n",
    "print(\"The Recall Score for knn is :\",recall_score(y_train,y_pred_train_knn))\n",
    "print(\"The ROC AUC score for knn is:\",roc_auc_score(y_train,y_pred_train_knn))\n",
    "\n",
    "print (\"----------------Model Evaluation for Testing Data--------------------------\")\n",
    "\n",
    "print(\"The accuracy score for knn is:\", accuracy_score(y_test,y_pred_test_knn))\n",
    "print(\"The precision score for knn is:\",precision_score(y_test,y_pred_test_knn))\n",
    "print(\"The f1 score for knn is:\",f1_score(y_test,y_pred_test_knn))\n",
    "print(\"The Recall Score for knn is :\",recall_score(y_test,y_pred_test_knn))\n",
    "print(\"The ROC AUC score for knn is:\",roc_auc_score(y_test,y_pred_test_knn))\n"
   ]
  },
  {
   "cell_type": "markdown",
   "id": "bbd981db",
   "metadata": {},
   "source": [
    "# Decision Tree"
   ]
  },
  {
   "cell_type": "code",
   "execution_count": 35,
   "id": "f3eb3ed5",
   "metadata": {},
   "outputs": [
    {
     "name": "stdout",
     "output_type": "stream",
     "text": [
      "Model evaluation for Decision Tree\n",
      "\n",
      "-------------------------Model Evaluation for train data-----------------\n",
      "The accuracy score for Decision Tree is: 1.0\n",
      "The precision score for Decision Tree is: 1.0\n",
      "The f1 score for Decision Tree is: 1.0\n",
      "The Recall Score for Decision Tree is : 1.0\n",
      "The ROC AUC score for Decision Tree is: 1.0\n",
      "-------------Model Evaluation for test data-----------\n",
      "The accuracy score for Decision Tree is: 0.6859504132231405\n",
      "The precision score for Decision Tree is: 0.7272727272727273\n",
      "The f1 score for Decision Tree is: 0.7164179104477613\n",
      "The Recall Score for Decision Tree is : 0.7058823529411765\n",
      "The ROC AUC score for Decision Tree is: 0.6831298557158714\n"
     ]
    }
   ],
   "source": [
    "print(\"Model evaluation for Decision Tree\\n\")\n",
    "print(\"-------------------------Model Evaluation for train data-----------------\")\n",
    "print(\"The accuracy score for Decision Tree is:\", accuracy_score(y_train,y_pred_train_dt))\n",
    "print(\"The precision score for Decision Tree is:\",precision_score(y_train,y_pred_train_dt))\n",
    "print(\"The f1 score for Decision Tree is:\",f1_score(y_train,y_pred_train_dt))\n",
    "print(\"The Recall Score for Decision Tree is :\",recall_score(y_train,y_pred_train_dt))\n",
    "print(\"The ROC AUC score for Decision Tree is:\",roc_auc_score(y_train,y_pred_train_dt))\n",
    "\n",
    "print(\"-------------Model Evaluation for test data-----------\")\n",
    "print(\"The accuracy score for Decision Tree is:\", accuracy_score(y_test,y_pred_test_dt))\n",
    "print(\"The precision score for Decision Tree is:\",precision_score(y_test,y_pred_test_dt))\n",
    "print(\"The f1 score for Decision Tree is:\",f1_score(y_test,y_pred_test_dt))\n",
    "print(\"The Recall Score for Decision Tree is :\",recall_score(y_test,y_pred_test_dt))\n",
    "print(\"The ROC AUC score for Decision Tree is:\",roc_auc_score(y_test,y_pred_test_dt))"
   ]
  },
  {
   "cell_type": "markdown",
   "id": "ecdf98d3",
   "metadata": {},
   "source": [
    "# Naive Bayes"
   ]
  },
  {
   "cell_type": "code",
   "execution_count": 36,
   "id": "214de99d",
   "metadata": {},
   "outputs": [
    {
     "name": "stdout",
     "output_type": "stream",
     "text": [
      "Model evaluation for Naive Bayes\n",
      "\n",
      "----------------Model Evaluation for test data------------------\n",
      "The accuracy score for Naive Bayes is: 0.850828729281768\n",
      "The precision score for Naive Bayes is: 0.8285714285714286\n",
      "The f1 score for Naive Bayes is: 0.8656716417910447\n",
      "The Recall Score for Naive Bayes is : 0.90625\n",
      "The ROC AUC score for Naive Bayes is: 0.8472426470588235\n",
      "-------------------Model evaluation for test data---------------\n",
      "The accuracy score for Naive Bayes is: 0.8512396694214877\n",
      "The precision score for Naive Bayes is: 0.8571428571428571\n",
      "The f1 score for Naive Bayes is: 0.8695652173913043\n",
      "The Recall Score for Naive Bayes is : 0.8823529411764706\n",
      "The ROC AUC score for Naive Bayes is: 0.8468368479467259\n"
     ]
    }
   ],
   "source": [
    "print(\"Model evaluation for Naive Bayes\\n\")\n",
    "print(\"----------------Model Evaluation for test data------------------\")\n",
    "print(\"The accuracy score for Naive Bayes is:\", accuracy_score(y_train,y_pred_train_nb))\n",
    "print(\"The precision score for Naive Bayes is:\",precision_score(y_train,y_pred_train_nb))\n",
    "print(\"The f1 score for Naive Bayes is:\",f1_score(y_train,y_pred_train_nb))\n",
    "print(\"The Recall Score for Naive Bayes is :\",recall_score(y_train,y_pred_train_nb))\n",
    "print(\"The ROC AUC score for Naive Bayes is:\",roc_auc_score(y_train,y_pred_train_nb))\n",
    "\n",
    "print(\"-------------------Model evaluation for test data---------------\")\n",
    "print(\"The accuracy score for Naive Bayes is:\", accuracy_score(y_test,y_pred_test_nb))\n",
    "print(\"The precision score for Naive Bayes is:\",precision_score(y_test,y_pred_test_nb))\n",
    "print(\"The f1 score for Naive Bayes is:\",f1_score(y_test,y_pred_test_nb))\n",
    "print(\"The Recall Score for Naive Bayes is :\",recall_score(y_test,y_pred_test_nb))\n",
    "print(\"The ROC AUC score for Naive Bayes is:\",roc_auc_score(y_test,y_pred_test_nb))"
   ]
  },
  {
   "cell_type": "markdown",
   "id": "6f555af3",
   "metadata": {},
   "source": [
    "# Cross Validation and Overfitting\n"
   ]
  },
  {
   "cell_type": "markdown",
   "id": "160dbcd1",
   "metadata": {},
   "source": [
    "# Cross Validation"
   ]
  },
  {
   "cell_type": "code",
   "execution_count": 37,
   "id": "d8646479",
   "metadata": {},
   "outputs": [],
   "source": [
    "from sklearn.model_selection import cross_val_score,KFold\n",
    "CVS=cross_val_score\n",
    "k_folds=KFold(n_splits=10,shuffle=True,random_state=40)"
   ]
  },
  {
   "cell_type": "markdown",
   "id": "665f660f",
   "metadata": {},
   "source": [
    "# For Knn"
   ]
  },
  {
   "cell_type": "code",
   "execution_count": 38,
   "id": "e92c08ff",
   "metadata": {},
   "outputs": [
    {
     "name": "stdout",
     "output_type": "stream",
     "text": [
      "KNN Model is Overfit\n",
      "Training Scores:  0.861878453038674\n",
      "Testing Score: 0.8181818181818182\n"
     ]
    }
   ],
   "source": [
    "#Check the over fitting\n",
    "Train_score=knn.score(X_train,y_train)\n",
    "Test_score=knn.score(X_test,y_test)\n",
    "if Train_score > Test_score:\n",
    "    print(\"KNN Model is Overfit\")\n",
    "    print(\"Training Scores: \",Train_score)\n",
    "    print(\"Testing Score:\",Test_score)\n",
    "else:\n",
    "    print(\"KNN model is not overfit:\")\n",
    "    print(\"Training Scores: \",Train_score)\n",
    "    print(\"Testing Score:\",Test_score)\n",
    "    "
   ]
  },
  {
   "cell_type": "code",
   "execution_count": 39,
   "id": "e4fe39b9",
   "metadata": {},
   "outputs": [
    {
     "data": {
      "text/plain": [
       "array([0.84615385, 0.75      , 0.75      , 0.75      , 0.83333333,\n",
       "       0.83333333, 1.        , 0.83333333, 0.83333333, 0.66666667])"
      ]
     },
     "execution_count": 39,
     "metadata": {},
     "output_type": "execute_result"
    }
   ],
   "source": [
    "score_knn=CVS(knn,X_test,y_test,cv=10)\n",
    "score_knn"
   ]
  },
  {
   "cell_type": "code",
   "execution_count": 40,
   "id": "9845f7cc",
   "metadata": {},
   "outputs": [
    {
     "name": "stdout",
     "output_type": "stream",
     "text": [
      "\n",
      "Training Accuracy Scores for Each Fold:\n",
      "Fold 1: 0.7564575645756457\n",
      "Fold 2: 0.7527675276752768\n",
      "Fold 3: 0.7720588235294118\n",
      "Fold 4: 0.7720588235294118\n",
      "Fold 5: 0.7904411764705882\n",
      "Fold 6: 0.7647058823529411\n",
      "Fold 7: 0.7683823529411765\n",
      "Fold 8: 0.7573529411764706\n",
      "Fold 9: 0.7647058823529411\n",
      "Fold 10: 0.7757352941176471\n",
      "\n",
      "Testing Accuracy Scores for Each Fold:\n",
      "Fold 1: 0.5806451612903226\n",
      "Fold 2: 0.6129032258064516\n",
      "Fold 3: 0.7333333333333333\n",
      "Fold 4: 0.7333333333333333\n",
      "Fold 5: 0.6333333333333333\n",
      "Fold 6: 0.6666666666666666\n",
      "Fold 7: 0.6333333333333333\n",
      "Fold 8: 0.6666666666666666\n",
      "Fold 9: 0.5666666666666667\n",
      "Fold 10: 0.7\n",
      "\n",
      "Average Accuracy Training Score: 0.7674666268721511\n",
      "\n",
      "Average Accuracy Testing Score: 0.6526881720430108\n"
     ]
    }
   ],
   "source": [
    "from sklearn import metrics\n",
    "k_folds=KFold(n_splits=10,shuffle=True,random_state=40)\n",
    "\n",
    "Train_score=[]\n",
    "Test_score=[]\n",
    "for train_index,test_index in k_folds.split(X):\n",
    "    X_train, X_test = X.iloc[train_index], X.iloc[test_index]\n",
    "    y_train, y_test = Y.iloc[train_index], Y.iloc[test_index]\n",
    "    knn.fit(X_train, y_train)\n",
    "    y_pred_test = knn.predict(X_test)\n",
    "    y_pred_train = knn.predict(X_train)\n",
    "    accuracy_test = metrics.accuracy_score(y_pred_test,y_test)\n",
    "    accuracy_train = metrics.accuracy_score(y_pred_train,y_train)\n",
    "    Test_score.append(accuracy_test)\n",
    "    Train_score.append(accuracy_train)\n",
    "print(\"\\nTraining Accuracy Scores for Each Fold:\")\n",
    "for fold, score in enumerate(Train_score):\n",
    "    print(f\"Fold {fold+1}: {score}\")\n",
    "\n",
    "print(\"\\nTesting Accuracy Scores for Each Fold:\")\n",
    "for fold, score in enumerate(Test_score):\n",
    "    print(f\"Fold {fold+1}: {score}\")\n",
    "average_accuracy_train = sum(Train_score) / len(Train_score)\n",
    "print(\"\\nAverage Accuracy Training Score:\", average_accuracy_train)\n",
    "\n",
    "average_accuracy_test = sum(Test_score) / len(Test_score)\n",
    "print(\"\\nAverage Accuracy Testing Score:\", average_accuracy_test)\n"
   ]
  },
  {
   "cell_type": "markdown",
   "id": "263ba9a3",
   "metadata": {},
   "source": [
    "# For Decision Tree"
   ]
  },
  {
   "cell_type": "code",
   "execution_count": 41,
   "id": "c20dbc12",
   "metadata": {},
   "outputs": [
    {
     "name": "stdout",
     "output_type": "stream",
     "text": [
      "Decision Tree model is not overfit:\n",
      "Training Scores:  0.44485294117647056\n",
      "Testing Score: 0.5333333333333333\n"
     ]
    }
   ],
   "source": [
    "#Check Overfitting\n",
    "Train_score=decision_tree.score(X_train,y_train)\n",
    "Test_score=decision_tree.score(X_test,y_test)\n",
    "if Train_score > Test_score:\n",
    "    print(\"Decision Tree Model is Overfit\")\n",
    "    print(\"Training Scores: \",Train_score)\n",
    "    print(\"Testing Score:\",Test_score)\n",
    "else:\n",
    "    print(\"Decision Tree model is not overfit:\")\n",
    "    print(\"Training Scores: \",Train_score)\n",
    "    print(\"Testing Score:\",Test_score)\n",
    "    "
   ]
  },
  {
   "cell_type": "code",
   "execution_count": 42,
   "id": "b30b8723",
   "metadata": {},
   "outputs": [],
   "source": [
    "#As There is overfitting there is no need of cross validation"
   ]
  },
  {
   "cell_type": "markdown",
   "id": "3fecd85b",
   "metadata": {},
   "source": [
    "# For Naive Bayes"
   ]
  },
  {
   "cell_type": "code",
   "execution_count": 43,
   "id": "0a258ab9",
   "metadata": {},
   "outputs": [
    {
     "name": "stdout",
     "output_type": "stream",
     "text": [
      "Naive Bayes is not overfit:\n",
      "Training Scores:  0.40441176470588236\n",
      "Testing Score: 0.4666666666666667\n"
     ]
    }
   ],
   "source": [
    "#Check overfitting\n",
    "Train_score=naive.score(X_train,y_train)\n",
    "Test_score=naive.score(X_test,y_test)\n",
    "if Train_score > Test_score:\n",
    "    print(\"Naive Bayes Model is Overfit\")\n",
    "    print(\"Training Scores: \",Train_score)\n",
    "    print(\"Testing Score:\",Test_score)\n",
    "else:\n",
    "    print(\"Naive Bayes is not overfit:\")\n",
    "    print(\"Training Scores: \",Train_score)\n",
    "    print(\"Testing Score:\",Test_score)\n",
    "    "
   ]
  },
  {
   "cell_type": "code",
   "execution_count": 44,
   "id": "837c5950",
   "metadata": {},
   "outputs": [],
   "source": [
    "#Same Naive bayes is not overfit  so there is no need to cross validation"
   ]
  },
  {
   "cell_type": "code",
   "execution_count": null,
   "id": "6ce8484e",
   "metadata": {},
   "outputs": [],
   "source": []
  }
 ],
 "metadata": {
  "kernelspec": {
   "display_name": "Python 3 (ipykernel)",
   "language": "python",
   "name": "python3"
  },
  "language_info": {
   "codemirror_mode": {
    "name": "ipython",
    "version": 3
   },
   "file_extension": ".py",
   "mimetype": "text/x-python",
   "name": "python",
   "nbconvert_exporter": "python",
   "pygments_lexer": "ipython3",
   "version": "3.11.4"
  }
 },
 "nbformat": 4,
 "nbformat_minor": 5
}
